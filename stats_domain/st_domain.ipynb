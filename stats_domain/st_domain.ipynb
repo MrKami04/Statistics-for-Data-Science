{
 "cells": [
  {
   "cell_type": "markdown",
   "id": "c69accc4",
   "metadata": {},
   "source": [
    "# Domain: Data Management"
   ]
  },
  {
   "cell_type": "code",
   "execution_count": 3,
   "id": "1755f124",
   "metadata": {},
   "outputs": [
    {
     "name": "stdout",
     "output_type": "stream",
     "text": [
      "25\n"
     ]
    }
   ],
   "source": [
    "# Example: Scores of 25 students in a test of 40 marks are:\n",
    "marks = [26,33,28,35,29,30,38,37,36,39,37,34,27,37,40,38,40,38,32,38,39,28,37,39,33]\n",
    "print(len(marks))"
   ]
  },
  {
   "cell_type": "code",
   "execution_count": 4,
   "id": "391c230a",
   "metadata": {},
   "outputs": [
    {
     "name": "stdout",
     "output_type": "stream",
     "text": [
      "30\n"
     ]
    }
   ],
   "source": [
    "# Example:The maximum temperature(in C) of Lahore for 30 days in a year is:\n",
    "temp = [ 36,21,18,32,15,27,18,15,27,15,26,16,39,25,16,\n",
    "         39,20,25,23,39,30,15,37,16,31,28,37,36,24,32]\n",
    "\n",
    "print(len(temp))"
   ]
  },
  {
   "cell_type": "code",
   "execution_count": 5,
   "id": "5d0c4699",
   "metadata": {},
   "outputs": [
    {
     "name": "stdout",
     "output_type": "stream",
     "text": [
      "35\n"
     ]
    }
   ],
   "source": [
    "# Example: The marks obtained by 35 students in a Mathematics test out of 100 marks are:\n",
    "marks_35 = [50,49,49,47,48,34,39,78,73,67,58,56,62,46,38,42,84,\n",
    "            60,83,50,68,60,90,70,57,57,61,49,61,58,49,79,89,77,54]\n",
    "\n",
    "print(len(marks_35))"
   ]
  },
  {
   "cell_type": "code",
   "execution_count": 6,
   "id": "e95bf846",
   "metadata": {},
   "outputs": [
    {
     "name": "stdout",
     "output_type": "stream",
     "text": [
      "50\n"
     ]
    }
   ],
   "source": [
    "# Example: The number of electricity units consumed by 50 households in a low income group in a locality\n",
    "# of lahore are:\n",
    "elect_units = [125,55,83,45,55,64,136,130,91,66,86,155,54,80,78,102,100,\n",
    "               62,113,60,93,101,104,58,111,75,113,81,96,111,96,90,87,55,\n",
    "               109,155,94,66,129,139,99,77,83,67,69,99,97,51,97,50]\n",
    "print(len(elect_units))"
   ]
  },
  {
   "cell_type": "code",
   "execution_count": 7,
   "id": "e03a235c",
   "metadata": {},
   "outputs": [
    {
     "name": "stdout",
     "output_type": "stream",
     "text": [
      "45\n"
     ]
    }
   ],
   "source": [
    "# Example: The scores in Science of 45 students are:\n",
    "score = [75,61,89,65,68,75,84,67,75,74,82,62,68,95,90,78,62,63,88,72,76,66,93,\n",
    "         78,73,82,79,75,88,94,73,77,60,69,93,74,71,68,59,60,85,96,75,78,61]\n",
    "\n",
    "print(len(score))"
   ]
  },
  {
   "cell_type": "code",
   "execution_count": 10,
   "id": "05c604c4",
   "metadata": {},
   "outputs": [
    {
     "name": "stdout",
     "output_type": "stream",
     "text": [
      "40\n"
     ]
    }
   ],
   "source": [
    "# Example: The masses of 40 students at a university are:\n",
    "masses = [153,144,164,138,152,135,150,168,140,135,126,132,144,148,\n",
    "           138,161,145,176,125,149,163,135,142,119,157,146,154,\n",
    "           150,156,165,158,140,146,145,128,173,147,136,142,147]\n",
    " \n",
    "print(len(masses))"
   ]
  },
  {
   "cell_type": "code",
   "execution_count": null,
   "id": "716779e5",
   "metadata": {},
   "outputs": [],
   "source": [
    "# Example: list of mathematics scores :\n",
    "scores = [45,75,60,63,62,85,40,95,96,80,82,81,67,57,48,91,89,90,\n",
    "          95,90,61,52,45,46,98,99,57,60,63,63,67,68,70,58,61,49,\n",
    "          53,98,89,81,79,62,59,49]"
   ]
  }
 ],
 "metadata": {
  "kernelspec": {
   "display_name": "data_analysis",
   "language": "python",
   "name": "python3"
  },
  "language_info": {
   "codemirror_mode": {
    "name": "ipython",
    "version": 3
   },
   "file_extension": ".py",
   "mimetype": "text/x-python",
   "name": "python",
   "nbconvert_exporter": "python",
   "pygments_lexer": "ipython3",
   "version": "3.13.0"
  }
 },
 "nbformat": 4,
 "nbformat_minor": 5
}
