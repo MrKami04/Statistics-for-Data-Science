{
 "cells": [
  {
   "cell_type": "code",
   "execution_count": 1,
   "id": "8f51fefc",
   "metadata": {},
   "outputs": [],
   "source": [
    "import pandas as pd\n",
    "import numpy as np\n",
    "import matplotlib.pyplot as plt\n",
    "import seaborn as sns\n",
    "import scipy.stats as stats\n",
    "import warnings\n",
    "warnings.filterwarnings(\"ignore\")"
   ]
  },
  {
   "cell_type": "markdown",
   "id": "ec66df4d",
   "metadata": {},
   "source": [
    "# Measure of Central Tendency"
   ]
  },
  {
   "cell_type": "markdown",
   "id": "71861073",
   "metadata": {},
   "source": [
    "## Mean"
   ]
  },
  {
   "cell_type": "code",
   "execution_count": 2,
   "id": "1775642d",
   "metadata": {},
   "outputs": [
    {
     "data": {
      "text/plain": [
       "np.float64(5.230769230769231)"
      ]
     },
     "execution_count": 2,
     "metadata": {},
     "output_type": "execute_result"
    }
   ],
   "source": [
    "arr = np.array([4,5,6,4,7,8,6,7,9,2,3,1,6])\n",
    "np.sum(arr)/len(arr)"
   ]
  },
  {
   "cell_type": "code",
   "execution_count": 3,
   "id": "79782bc8",
   "metadata": {},
   "outputs": [
    {
     "name": "stdout",
     "output_type": "stream",
     "text": [
      "[1 2 3 4 4 5 6 6 6 7 7 8 9]\n",
      "mean: 5.230769230769231\n"
     ]
    }
   ],
   "source": [
    "print(np.sort(arr))\n",
    "print(f\"mean: {np.mean(arr)}\")"
   ]
  },
  {
   "cell_type": "code",
   "execution_count": 4,
   "id": "ad80c12f",
   "metadata": {},
   "outputs": [
    {
     "data": {
      "text/html": [
       "<div>\n",
       "<style scoped>\n",
       "    .dataframe tbody tr th:only-of-type {\n",
       "        vertical-align: middle;\n",
       "    }\n",
       "\n",
       "    .dataframe tbody tr th {\n",
       "        vertical-align: top;\n",
       "    }\n",
       "\n",
       "    .dataframe thead th {\n",
       "        text-align: right;\n",
       "    }\n",
       "</style>\n",
       "<table border=\"1\" class=\"dataframe\">\n",
       "  <thead>\n",
       "    <tr style=\"text-align: right;\">\n",
       "      <th></th>\n",
       "      <th>survived</th>\n",
       "      <th>pclass</th>\n",
       "      <th>sex</th>\n",
       "      <th>age</th>\n",
       "      <th>sibsp</th>\n",
       "      <th>parch</th>\n",
       "      <th>fare</th>\n",
       "      <th>embarked</th>\n",
       "      <th>class</th>\n",
       "      <th>who</th>\n",
       "      <th>adult_male</th>\n",
       "      <th>deck</th>\n",
       "      <th>embark_town</th>\n",
       "      <th>alive</th>\n",
       "      <th>alone</th>\n",
       "    </tr>\n",
       "  </thead>\n",
       "  <tbody>\n",
       "    <tr>\n",
       "      <th>0</th>\n",
       "      <td>0</td>\n",
       "      <td>3</td>\n",
       "      <td>male</td>\n",
       "      <td>22.0</td>\n",
       "      <td>1</td>\n",
       "      <td>0</td>\n",
       "      <td>7.2500</td>\n",
       "      <td>S</td>\n",
       "      <td>Third</td>\n",
       "      <td>man</td>\n",
       "      <td>True</td>\n",
       "      <td>NaN</td>\n",
       "      <td>Southampton</td>\n",
       "      <td>no</td>\n",
       "      <td>False</td>\n",
       "    </tr>\n",
       "    <tr>\n",
       "      <th>1</th>\n",
       "      <td>1</td>\n",
       "      <td>1</td>\n",
       "      <td>female</td>\n",
       "      <td>38.0</td>\n",
       "      <td>1</td>\n",
       "      <td>0</td>\n",
       "      <td>71.2833</td>\n",
       "      <td>C</td>\n",
       "      <td>First</td>\n",
       "      <td>woman</td>\n",
       "      <td>False</td>\n",
       "      <td>C</td>\n",
       "      <td>Cherbourg</td>\n",
       "      <td>yes</td>\n",
       "      <td>False</td>\n",
       "    </tr>\n",
       "    <tr>\n",
       "      <th>2</th>\n",
       "      <td>1</td>\n",
       "      <td>3</td>\n",
       "      <td>female</td>\n",
       "      <td>26.0</td>\n",
       "      <td>0</td>\n",
       "      <td>0</td>\n",
       "      <td>7.9250</td>\n",
       "      <td>S</td>\n",
       "      <td>Third</td>\n",
       "      <td>woman</td>\n",
       "      <td>False</td>\n",
       "      <td>NaN</td>\n",
       "      <td>Southampton</td>\n",
       "      <td>yes</td>\n",
       "      <td>True</td>\n",
       "    </tr>\n",
       "  </tbody>\n",
       "</table>\n",
       "</div>"
      ],
      "text/plain": [
       "   survived  pclass     sex   age  sibsp  parch     fare embarked  class  \\\n",
       "0         0       3    male  22.0      1      0   7.2500        S  Third   \n",
       "1         1       1  female  38.0      1      0  71.2833        C  First   \n",
       "2         1       3  female  26.0      0      0   7.9250        S  Third   \n",
       "\n",
       "     who  adult_male deck  embark_town alive  alone  \n",
       "0    man        True  NaN  Southampton    no  False  \n",
       "1  woman       False    C    Cherbourg   yes  False  \n",
       "2  woman       False  NaN  Southampton   yes   True  "
      ]
     },
     "execution_count": 4,
     "metadata": {},
     "output_type": "execute_result"
    }
   ],
   "source": [
    "df = sns.load_dataset(\"titanic\")\n",
    "df.head(3)"
   ]
  },
  {
   "cell_type": "code",
   "execution_count": 5,
   "id": "47668fd2",
   "metadata": {},
   "outputs": [
    {
     "name": "stdout",
     "output_type": "stream",
     "text": [
      "32.204207968574636\n",
      "mean: 32.204207968574636\n"
     ]
    }
   ],
   "source": [
    "print(df['fare'].mean())\n",
    "mn = np.mean(df[\"fare\"])\n",
    "print(f\"mean: {mn}\")"
   ]
  },
  {
   "cell_type": "code",
   "execution_count": 6,
   "id": "ab9de312",
   "metadata": {},
   "outputs": [
    {
     "data": {
      "image/png": "[encoded data removed]",
      "text/plain": [
       "<Figure size 640x480 with 1 Axes>"
      ]
     },
     "metadata": {},
     "output_type": "display_data"
    }
   ],
   "source": [
    "sns.histplot(x=\"fare\", data=df, bins=[i for i in range(0, 81,10)])\n",
    "plt.plot([mn for i in range(0,300)], [i for i in range(0,300)], c=\"red\")\n",
    "plt.show()"
   ]
  },
  {
   "cell_type": "markdown",
   "id": "c38f0253",
   "metadata": {},
   "source": [
    "## Median"
   ]
  },
  {
   "cell_type": "code",
   "execution_count": 7,
   "id": "32b700b2",
   "metadata": {},
   "outputs": [
    {
     "name": "stdout",
     "output_type": "stream",
     "text": [
      "median: 6.0\n"
     ]
    }
   ],
   "source": [
    "arr = np.array([4,5,6,4,7,8,6,7,9,2,3,1,6])\n",
    "print(f\"median: {np.median(arr)}\")"
   ]
  },
  {
   "cell_type": "code",
   "execution_count": 8,
   "id": "e9088299",
   "metadata": {},
   "outputs": [
    {
     "data": {
      "text/html": [
       "<div>\n",
       "<style scoped>\n",
       "    .dataframe tbody tr th:only-of-type {\n",
       "        vertical-align: middle;\n",
       "    }\n",
       "\n",
       "    .dataframe tbody tr th {\n",
       "        vertical-align: top;\n",
       "    }\n",
       "\n",
       "    .dataframe thead th {\n",
       "        text-align: right;\n",
       "    }\n",
       "</style>\n",
       "<table border=\"1\" class=\"dataframe\">\n",
       "  <thead>\n",
       "    <tr style=\"text-align: right;\">\n",
       "      <th></th>\n",
       "      <th>survived</th>\n",
       "      <th>pclass</th>\n",
       "      <th>sex</th>\n",
       "      <th>age</th>\n",
       "      <th>sibsp</th>\n",
       "      <th>parch</th>\n",
       "      <th>fare</th>\n",
       "      <th>embarked</th>\n",
       "      <th>class</th>\n",
       "      <th>who</th>\n",
       "      <th>adult_male</th>\n",
       "      <th>deck</th>\n",
       "      <th>embark_town</th>\n",
       "      <th>alive</th>\n",
       "      <th>alone</th>\n",
       "    </tr>\n",
       "  </thead>\n",
       "  <tbody>\n",
       "    <tr>\n",
       "      <th>0</th>\n",
       "      <td>0</td>\n",
       "      <td>3</td>\n",
       "      <td>male</td>\n",
       "      <td>22.0</td>\n",
       "      <td>1</td>\n",
       "      <td>0</td>\n",
       "      <td>7.2500</td>\n",
       "      <td>S</td>\n",
       "      <td>Third</td>\n",
       "      <td>man</td>\n",
       "      <td>True</td>\n",
       "      <td>NaN</td>\n",
       "      <td>Southampton</td>\n",
       "      <td>no</td>\n",
       "      <td>False</td>\n",
       "    </tr>\n",
       "    <tr>\n",
       "      <th>1</th>\n",
       "      <td>1</td>\n",
       "      <td>1</td>\n",
       "      <td>female</td>\n",
       "      <td>38.0</td>\n",
       "      <td>1</td>\n",
       "      <td>0</td>\n",
       "      <td>71.2833</td>\n",
       "      <td>C</td>\n",
       "      <td>First</td>\n",
       "      <td>woman</td>\n",
       "      <td>False</td>\n",
       "      <td>C</td>\n",
       "      <td>Cherbourg</td>\n",
       "      <td>yes</td>\n",
       "      <td>False</td>\n",
       "    </tr>\n",
       "  </tbody>\n",
       "</table>\n",
       "</div>"
      ],
      "text/plain": [
       "   survived  pclass     sex   age  sibsp  parch     fare embarked  class  \\\n",
       "0         0       3    male  22.0      1      0   7.2500        S  Third   \n",
       "1         1       1  female  38.0      1      0  71.2833        C  First   \n",
       "\n",
       "     who  adult_male deck  embark_town alive  alone  \n",
       "0    man        True  NaN  Southampton    no  False  \n",
       "1  woman       False    C    Cherbourg   yes  False  "
      ]
     },
     "execution_count": 8,
     "metadata": {},
     "output_type": "execute_result"
    }
   ],
   "source": [
    "df.head(2)"
   ]
  },
  {
   "cell_type": "code",
   "execution_count": 9,
   "id": "02f5346b",
   "metadata": {},
   "outputs": [
    {
     "name": "stdout",
     "output_type": "stream",
     "text": [
      "14.4542\n"
     ]
    }
   ],
   "source": [
    "med = np.median(df[\"fare\"])\n",
    "print(df[\"fare\"].median())"
   ]
  },
  {
   "cell_type": "code",
   "execution_count": 10,
   "id": "2fcb3fb3",
   "metadata": {},
   "outputs": [
    {
     "data": {
      "image/png": "[encoded data removed]",
      "text/plain": [
       "<Figure size 640x480 with 1 Axes>"
      ]
     },
     "metadata": {},
     "output_type": "display_data"
    }
   ],
   "source": [
    "sns.histplot(x=\"fare\", data=df, bins=[i for i in range(0, 81,10)])\n",
    "plt.plot([med for i in range(0,300)], [i for i in range(0,300)], c=\"blue\")\n",
    "plt.plot([mn for i in range(0,300)], [i for i in range(0,300)], c=\"red\")\n",
    "plt.show()"
   ]
  },
  {
   "cell_type": "markdown",
   "id": "c66d5252",
   "metadata": {},
   "source": [
    "## Mode"
   ]
  },
  {
   "cell_type": "code",
   "execution_count": 11,
   "id": "0683360b",
   "metadata": {},
   "outputs": [
    {
     "name": "stdout",
     "output_type": "stream",
     "text": [
      "mode: 6\n",
      "mode count: 3\n"
     ]
    }
   ],
   "source": [
    "arr = np.array([4,5,6,4,7,8,6,7,9,2,3,1,6])\n",
    "mod = stats.mode(arr, keepdims=True)\n",
    "print(f\"mode: {mod.mode[0]}\")\n",
    "print(f\"mode count: {mod.count[0]}\")"
   ]
  },
  {
   "cell_type": "code",
   "execution_count": 12,
   "id": "e6c1df2b",
   "metadata": {},
   "outputs": [
    {
     "data": {
      "text/html": [
       "<div>\n",
       "<style scoped>\n",
       "    .dataframe tbody tr th:only-of-type {\n",
       "        vertical-align: middle;\n",
       "    }\n",
       "\n",
       "    .dataframe tbody tr th {\n",
       "        vertical-align: top;\n",
       "    }\n",
       "\n",
       "    .dataframe thead th {\n",
       "        text-align: right;\n",
       "    }\n",
       "</style>\n",
       "<table border=\"1\" class=\"dataframe\">\n",
       "  <thead>\n",
       "    <tr style=\"text-align: right;\">\n",
       "      <th></th>\n",
       "      <th>survived</th>\n",
       "      <th>pclass</th>\n",
       "      <th>sex</th>\n",
       "      <th>age</th>\n",
       "      <th>sibsp</th>\n",
       "      <th>parch</th>\n",
       "      <th>fare</th>\n",
       "      <th>embarked</th>\n",
       "      <th>class</th>\n",
       "      <th>who</th>\n",
       "      <th>adult_male</th>\n",
       "      <th>deck</th>\n",
       "      <th>embark_town</th>\n",
       "      <th>alive</th>\n",
       "      <th>alone</th>\n",
       "    </tr>\n",
       "  </thead>\n",
       "  <tbody>\n",
       "    <tr>\n",
       "      <th>0</th>\n",
       "      <td>0</td>\n",
       "      <td>3</td>\n",
       "      <td>male</td>\n",
       "      <td>22.0</td>\n",
       "      <td>1</td>\n",
       "      <td>0</td>\n",
       "      <td>7.2500</td>\n",
       "      <td>S</td>\n",
       "      <td>Third</td>\n",
       "      <td>man</td>\n",
       "      <td>True</td>\n",
       "      <td>NaN</td>\n",
       "      <td>Southampton</td>\n",
       "      <td>no</td>\n",
       "      <td>False</td>\n",
       "    </tr>\n",
       "    <tr>\n",
       "      <th>1</th>\n",
       "      <td>1</td>\n",
       "      <td>1</td>\n",
       "      <td>female</td>\n",
       "      <td>38.0</td>\n",
       "      <td>1</td>\n",
       "      <td>0</td>\n",
       "      <td>71.2833</td>\n",
       "      <td>C</td>\n",
       "      <td>First</td>\n",
       "      <td>woman</td>\n",
       "      <td>False</td>\n",
       "      <td>C</td>\n",
       "      <td>Cherbourg</td>\n",
       "      <td>yes</td>\n",
       "      <td>False</td>\n",
       "    </tr>\n",
       "  </tbody>\n",
       "</table>\n",
       "</div>"
      ],
      "text/plain": [
       "   survived  pclass     sex   age  sibsp  parch     fare embarked  class  \\\n",
       "0         0       3    male  22.0      1      0   7.2500        S  Third   \n",
       "1         1       1  female  38.0      1      0  71.2833        C  First   \n",
       "\n",
       "     who  adult_male deck  embark_town alive  alone  \n",
       "0    man        True  NaN  Southampton    no  False  \n",
       "1  woman       False    C    Cherbourg   yes  False  "
      ]
     },
     "execution_count": 12,
     "metadata": {},
     "output_type": "execute_result"
    }
   ],
   "source": [
    "df.head(2)"
   ]
  },
  {
   "cell_type": "code",
   "execution_count": 13,
   "id": "d0a14c3e",
   "metadata": {},
   "outputs": [
    {
     "name": "stdout",
     "output_type": "stream",
     "text": [
      "8.05\n"
     ]
    }
   ],
   "source": [
    "print(df['fare'].mode()[0])\n",
    "mo = df[\"fare\"].mode()[0]"
   ]
  },
  {
   "cell_type": "code",
   "execution_count": 14,
   "id": "7a8fa830",
   "metadata": {},
   "outputs": [
    {
     "data": {
      "text/plain": [
       "fare\n",
       "8.0500     43\n",
       "13.0000    42\n",
       "7.8958     38\n",
       "7.7500     34\n",
       "26.0000    31\n",
       "           ..\n",
       "35.0000     1\n",
       "28.5000     1\n",
       "6.2375      1\n",
       "14.0000     1\n",
       "10.5167     1\n",
       "Name: count, Length: 248, dtype: int64"
      ]
     },
     "execution_count": 14,
     "metadata": {},
     "output_type": "execute_result"
    }
   ],
   "source": [
    "df[\"fare\"].value_counts()"
   ]
  },
  {
   "cell_type": "code",
   "execution_count": 15,
   "id": "4034b9fe",
   "metadata": {},
   "outputs": [
    {
     "data": {
      "image/png": "[encoded data removed]",
      "text/plain": [
       "<Figure size 640x480 with 1 Axes>"
      ]
     },
     "metadata": {},
     "output_type": "display_data"
    }
   ],
   "source": [
    "sns.histplot(x=\"fare\", data=df, bins=[i for i in range(0, 81,10)])\n",
    "plt.plot([med for i in range(0,300)], [i for i in range(0,300)], c=\"blue\", label=\"median\")\n",
    "plt.plot([mn for i in range(0,300)], [i for i in range(0,300)], c=\"red\", label=\"mean\")\n",
    "plt.plot([mo for i in range(0,300)], [i for i in range(0,300)], c=\"green\", label=\"mode\")\n",
    "plt.legend()\n",
    "plt.show()"
   ]
  },
  {
   "cell_type": "markdown",
   "id": "e5c6450e",
   "metadata": {},
   "source": [
    "# Measure of Variability"
   ]
  },
  {
   "cell_type": "markdown",
   "id": "ed5f4fb7",
   "metadata": {},
   "source": [
    "## Range\n",
    "#### Range = Maximum - Minimum"
   ]
  },
  {
   "cell_type": "code",
   "execution_count": 16,
   "id": "f32a1011",
   "metadata": {},
   "outputs": [
    {
     "name": "stdout",
     "output_type": "stream",
     "text": [
      "Range: 8\n"
     ]
    }
   ],
   "source": [
    "arr = np.array([4,5,6,4,7,8,6,7,9,2,3,1,6])\n",
    "arr1 = np.array([1, 2, 3, 4, 4, 5, 6, 6, 6, 7, 7, 8, 9])  # in sort order\n",
    "min_r = np.min(arr1)\n",
    "max_r = np.max(arr1)\n",
    "Range = max_r - min_r\n",
    "print(f\"Range: {Range}\")"
   ]
  },
  {
   "cell_type": "code",
   "execution_count": 17,
   "id": "9bc5ce12",
   "metadata": {},
   "outputs": [
    {
     "data": {
      "text/html": [
       "<div>\n",
       "<style scoped>\n",
       "    .dataframe tbody tr th:only-of-type {\n",
       "        vertical-align: middle;\n",
       "    }\n",
       "\n",
       "    .dataframe tbody tr th {\n",
       "        vertical-align: top;\n",
       "    }\n",
       "\n",
       "    .dataframe thead th {\n",
       "        text-align: right;\n",
       "    }\n",
       "</style>\n",
       "<table border=\"1\" class=\"dataframe\">\n",
       "  <thead>\n",
       "    <tr style=\"text-align: right;\">\n",
       "      <th></th>\n",
       "      <th>total_bill</th>\n",
       "      <th>tip</th>\n",
       "      <th>sex</th>\n",
       "      <th>smoker</th>\n",
       "      <th>day</th>\n",
       "      <th>time</th>\n",
       "      <th>size</th>\n",
       "    </tr>\n",
       "  </thead>\n",
       "  <tbody>\n",
       "    <tr>\n",
       "      <th>0</th>\n",
       "      <td>16.99</td>\n",
       "      <td>1.01</td>\n",
       "      <td>Female</td>\n",
       "      <td>No</td>\n",
       "      <td>Sun</td>\n",
       "      <td>Dinner</td>\n",
       "      <td>2</td>\n",
       "    </tr>\n",
       "    <tr>\n",
       "      <th>1</th>\n",
       "      <td>10.34</td>\n",
       "      <td>1.66</td>\n",
       "      <td>Male</td>\n",
       "      <td>No</td>\n",
       "      <td>Sun</td>\n",
       "      <td>Dinner</td>\n",
       "      <td>3</td>\n",
       "    </tr>\n",
       "  </tbody>\n",
       "</table>\n",
       "</div>"
      ],
      "text/plain": [
       "   total_bill   tip     sex smoker  day    time  size\n",
       "0       16.99  1.01  Female     No  Sun  Dinner     2\n",
       "1       10.34  1.66    Male     No  Sun  Dinner     3"
      ]
     },
     "execution_count": 17,
     "metadata": {},
     "output_type": "execute_result"
    }
   ],
   "source": [
    "# load dataset\n",
    "df = sns.load_dataset(\"tips\")\n",
    "df.head(2)"
   ]
  },
  {
   "cell_type": "code",
   "execution_count": 18,
   "id": "b5f3d416",
   "metadata": {},
   "outputs": [
    {
     "name": "stdout",
     "output_type": "stream",
     "text": [
      "3.07 and 50.81\n",
      "Range: 47.74\n"
     ]
    }
   ],
   "source": [
    "min_r = df[\"total_bill\"].min()\n",
    "max_r = df[\"total_bill\"].max()\n",
    "Range = max_r - min_r\n",
    "print(min_r,\"and\", max_r)\n",
    "print(f\"Range: {Range}\")"
   ]
  },
  {
   "cell_type": "markdown",
   "id": "5fd71d60",
   "metadata": {},
   "source": [
    "## Mean Absolute Deviation (MAD)"
   ]
  },
  {
   "cell_type": "code",
   "execution_count": 19,
   "id": "c0effc19",
   "metadata": {},
   "outputs": [],
   "source": [
    "sec_a = np.array([75,65,69,68,72,74])\n",
    "sec_b = np.array([90,47,43,96,93,51])\n",
    "no = np.array([1,2,3,4,5,6])"
   ]
  },
  {
   "cell_type": "code",
   "execution_count": 20,
   "id": "654a68f4",
   "metadata": {},
   "outputs": [],
   "source": [
    "mean_a = np.mean(sec_a)\n",
    "mean_b = np.mean(sec_b)"
   ]
  },
  {
   "cell_type": "code",
   "execution_count": 21,
   "id": "b3a4b5c1",
   "metadata": {},
   "outputs": [
    {
     "data": {
      "image/png": "[encoded data removed]",
      "text/plain": [
       "<Figure size 1000x300 with 1 Axes>"
      ]
     },
     "metadata": {},
     "output_type": "display_data"
    }
   ],
   "source": [
    "plt.figure(figsize=(10, 3))\n",
    "plt.scatter(sec_a,no, label=\"Section A\", c=\"blue\")\n",
    "plt.scatter(sec_b,no, label=\"Section B\", c=\"red\")\n",
    "plt.plot([mean_b for i in range(1,7)], no, c=\"blue\", label=\"Mean\")\n",
    "plt.legend()\n",
    "plt.show()"
   ]
  },
  {
   "cell_type": "code",
   "execution_count": 22,
   "id": "c230270b",
   "metadata": {},
   "outputs": [
    {
     "name": "stdout",
     "output_type": "stream",
     "text": [
      "MAD of Section A: 3.1666666666666665\n",
      "MAD of Section B: 23.0\n"
     ]
    }
   ],
   "source": [
    "mad_a = np.sum(np.abs(sec_a - mean_a)) / len(sec_a)\n",
    "mad_b = np.sum(np.abs(sec_b - mean_b)) / len(sec_b)\n",
    "print(\"MAD of Section A:\", mad_a)  # we consider section A data because its MAD is less then section B\n",
    "print(\"MAD of Section B:\", mad_b)"
   ]
  },
  {
   "cell_type": "markdown",
   "id": "54982ccc",
   "metadata": {},
   "source": [
    "## Standard Deviation and Variance"
   ]
  },
  {
   "cell_type": "code",
   "execution_count": 23,
   "id": "e672e50a",
   "metadata": {},
   "outputs": [],
   "source": [
    "sec_a = np.array([75,65,69,68,72,74])\n",
    "sec_b = np.array([90,47,43,96,93,51])\n",
    "no = np.array([1,2,3,4,5,6])"
   ]
  },
  {
   "cell_type": "code",
   "execution_count": 24,
   "id": "0f5412fb",
   "metadata": {},
   "outputs": [
    {
     "data": {
      "text/plain": [
       "(np.float64(3.5), np.float64(23.18045153428495))"
      ]
     },
     "execution_count": 24,
     "metadata": {},
     "output_type": "execute_result"
    }
   ],
   "source": [
    "np.std(sec_a), np.std(sec_b) # consider section A data because its STD is less then section B"
   ]
  },
  {
   "cell_type": "code",
   "execution_count": 25,
   "id": "44c807d5",
   "metadata": {},
   "outputs": [
    {
     "data": {
      "text/plain": [
       "(np.float64(12.25), np.float64(537.3333333333334))"
      ]
     },
     "execution_count": 25,
     "metadata": {},
     "output_type": "execute_result"
    }
   ],
   "source": [
    "np.var(sec_a), np.var(sec_b) # consider section A data because its VAR is less then section B"
   ]
  },
  {
   "cell_type": "code",
   "execution_count": 26,
   "id": "15b4d6c6",
   "metadata": {},
   "outputs": [
    {
     "data": {
      "text/html": [
       "<div>\n",
       "<style scoped>\n",
       "    .dataframe tbody tr th:only-of-type {\n",
       "        vertical-align: middle;\n",
       "    }\n",
       "\n",
       "    .dataframe tbody tr th {\n",
       "        vertical-align: top;\n",
       "    }\n",
       "\n",
       "    .dataframe thead th {\n",
       "        text-align: right;\n",
       "    }\n",
       "</style>\n",
       "<table border=\"1\" class=\"dataframe\">\n",
       "  <thead>\n",
       "    <tr style=\"text-align: right;\">\n",
       "      <th></th>\n",
       "      <th>survived</th>\n",
       "      <th>pclass</th>\n",
       "      <th>sex</th>\n",
       "      <th>age</th>\n",
       "      <th>sibsp</th>\n",
       "      <th>parch</th>\n",
       "      <th>fare</th>\n",
       "      <th>embarked</th>\n",
       "      <th>class</th>\n",
       "      <th>who</th>\n",
       "      <th>adult_male</th>\n",
       "      <th>deck</th>\n",
       "      <th>embark_town</th>\n",
       "      <th>alive</th>\n",
       "      <th>alone</th>\n",
       "    </tr>\n",
       "  </thead>\n",
       "  <tbody>\n",
       "    <tr>\n",
       "      <th>0</th>\n",
       "      <td>0</td>\n",
       "      <td>3</td>\n",
       "      <td>male</td>\n",
       "      <td>22.0</td>\n",
       "      <td>1</td>\n",
       "      <td>0</td>\n",
       "      <td>7.2500</td>\n",
       "      <td>S</td>\n",
       "      <td>Third</td>\n",
       "      <td>man</td>\n",
       "      <td>True</td>\n",
       "      <td>NaN</td>\n",
       "      <td>Southampton</td>\n",
       "      <td>no</td>\n",
       "      <td>False</td>\n",
       "    </tr>\n",
       "    <tr>\n",
       "      <th>1</th>\n",
       "      <td>1</td>\n",
       "      <td>1</td>\n",
       "      <td>female</td>\n",
       "      <td>38.0</td>\n",
       "      <td>1</td>\n",
       "      <td>0</td>\n",
       "      <td>71.2833</td>\n",
       "      <td>C</td>\n",
       "      <td>First</td>\n",
       "      <td>woman</td>\n",
       "      <td>False</td>\n",
       "      <td>C</td>\n",
       "      <td>Cherbourg</td>\n",
       "      <td>yes</td>\n",
       "      <td>False</td>\n",
       "    </tr>\n",
       "  </tbody>\n",
       "</table>\n",
       "</div>"
      ],
      "text/plain": [
       "   survived  pclass     sex   age  sibsp  parch     fare embarked  class  \\\n",
       "0         0       3    male  22.0      1      0   7.2500        S  Third   \n",
       "1         1       1  female  38.0      1      0  71.2833        C  First   \n",
       "\n",
       "     who  adult_male deck  embark_town alive  alone  \n",
       "0    man        True  NaN  Southampton    no  False  \n",
       "1  woman       False    C    Cherbourg   yes  False  "
      ]
     },
     "execution_count": 26,
     "metadata": {},
     "output_type": "execute_result"
    }
   ],
   "source": [
    "df = sns.load_dataset(\"titanic\")\n",
    "df.head(2)"
   ]
  },
  {
   "cell_type": "code",
   "execution_count": 27,
   "id": "75fd2b43",
   "metadata": {},
   "outputs": [
    {
     "name": "stdout",
     "output_type": "stream",
     "text": [
      "211.0191247463081\n",
      "14.526497332334044\n"
     ]
    }
   ],
   "source": [
    "print(df[\"age\"].var())\n",
    "print(df[\"age\"].std())"
   ]
  },
  {
   "cell_type": "code",
   "execution_count": 28,
   "id": "50f66559",
   "metadata": {},
   "outputs": [
    {
     "data": {
      "text/html": [
       "<div>\n",
       "<style scoped>\n",
       "    .dataframe tbody tr th:only-of-type {\n",
       "        vertical-align: middle;\n",
       "    }\n",
       "\n",
       "    .dataframe tbody tr th {\n",
       "        vertical-align: top;\n",
       "    }\n",
       "\n",
       "    .dataframe thead th {\n",
       "        text-align: right;\n",
       "    }\n",
       "</style>\n",
       "<table border=\"1\" class=\"dataframe\">\n",
       "  <thead>\n",
       "    <tr style=\"text-align: right;\">\n",
       "      <th></th>\n",
       "      <th>survived</th>\n",
       "      <th>pclass</th>\n",
       "      <th>age</th>\n",
       "      <th>sibsp</th>\n",
       "      <th>parch</th>\n",
       "      <th>fare</th>\n",
       "    </tr>\n",
       "  </thead>\n",
       "  <tbody>\n",
       "    <tr>\n",
       "      <th>count</th>\n",
       "      <td>891.000000</td>\n",
       "      <td>891.000000</td>\n",
       "      <td>714.000000</td>\n",
       "      <td>891.000000</td>\n",
       "      <td>891.000000</td>\n",
       "      <td>891.000000</td>\n",
       "    </tr>\n",
       "    <tr>\n",
       "      <th>mean</th>\n",
       "      <td>0.383838</td>\n",
       "      <td>2.308642</td>\n",
       "      <td>29.699118</td>\n",
       "      <td>0.523008</td>\n",
       "      <td>0.381594</td>\n",
       "      <td>32.204208</td>\n",
       "    </tr>\n",
       "    <tr>\n",
       "      <th>std</th>\n",
       "      <td>0.486592</td>\n",
       "      <td>0.836071</td>\n",
       "      <td>14.526497</td>\n",
       "      <td>1.102743</td>\n",
       "      <td>0.806057</td>\n",
       "      <td>49.693429</td>\n",
       "    </tr>\n",
       "    <tr>\n",
       "      <th>min</th>\n",
       "      <td>0.000000</td>\n",
       "      <td>1.000000</td>\n",
       "      <td>0.420000</td>\n",
       "      <td>0.000000</td>\n",
       "      <td>0.000000</td>\n",
       "      <td>0.000000</td>\n",
       "    </tr>\n",
       "    <tr>\n",
       "      <th>25%</th>\n",
       "      <td>0.000000</td>\n",
       "      <td>2.000000</td>\n",
       "      <td>20.125000</td>\n",
       "      <td>0.000000</td>\n",
       "      <td>0.000000</td>\n",
       "      <td>7.910400</td>\n",
       "    </tr>\n",
       "    <tr>\n",
       "      <th>50%</th>\n",
       "      <td>0.000000</td>\n",
       "      <td>3.000000</td>\n",
       "      <td>28.000000</td>\n",
       "      <td>0.000000</td>\n",
       "      <td>0.000000</td>\n",
       "      <td>14.454200</td>\n",
       "    </tr>\n",
       "    <tr>\n",
       "      <th>75%</th>\n",
       "      <td>1.000000</td>\n",
       "      <td>3.000000</td>\n",
       "      <td>38.000000</td>\n",
       "      <td>1.000000</td>\n",
       "      <td>0.000000</td>\n",
       "      <td>31.000000</td>\n",
       "    </tr>\n",
       "    <tr>\n",
       "      <th>max</th>\n",
       "      <td>1.000000</td>\n",
       "      <td>3.000000</td>\n",
       "      <td>80.000000</td>\n",
       "      <td>8.000000</td>\n",
       "      <td>6.000000</td>\n",
       "      <td>512.329200</td>\n",
       "    </tr>\n",
       "  </tbody>\n",
       "</table>\n",
       "</div>"
      ],
      "text/plain": [
       "         survived      pclass         age       sibsp       parch        fare\n",
       "count  891.000000  891.000000  714.000000  891.000000  891.000000  891.000000\n",
       "mean     0.383838    2.308642   29.699118    0.523008    0.381594   32.204208\n",
       "std      0.486592    0.836071   14.526497    1.102743    0.806057   49.693429\n",
       "min      0.000000    1.000000    0.420000    0.000000    0.000000    0.000000\n",
       "25%      0.000000    2.000000   20.125000    0.000000    0.000000    7.910400\n",
       "50%      0.000000    3.000000   28.000000    0.000000    0.000000   14.454200\n",
       "75%      1.000000    3.000000   38.000000    1.000000    0.000000   31.000000\n",
       "max      1.000000    3.000000   80.000000    8.000000    6.000000  512.329200"
      ]
     },
     "execution_count": 28,
     "metadata": {},
     "output_type": "execute_result"
    }
   ],
   "source": [
    "df.describe()"
   ]
  },
  {
   "cell_type": "code",
   "execution_count": 29,
   "id": "b0825a12",
   "metadata": {},
   "outputs": [
    {
     "data": {
      "text/plain": [
       "<Axes: xlabel='age', ylabel='Count'>"
      ]
     },
     "execution_count": 29,
     "metadata": {},
     "output_type": "execute_result"
    },
    {
     "data": {
      "image/png": "[encoded data removed]",
      "text/plain": [
       "<Figure size 640x480 with 1 Axes>"
      ]
     },
     "metadata": {},
     "output_type": "display_data"
    }
   ],
   "source": [
    "sns.histplot(x=\"age\", data=df)"
   ]
  },
  {
   "cell_type": "markdown",
   "id": "15475b67",
   "metadata": {},
   "source": [
    "## Percentage, Percentiles and Quartiles"
   ]
  },
  {
   "cell_type": "code",
   "execution_count": 30,
   "id": "9c9c09a7",
   "metadata": {},
   "outputs": [
    {
     "data": {
      "text/html": [
       "<div>\n",
       "<style scoped>\n",
       "    .dataframe tbody tr th:only-of-type {\n",
       "        vertical-align: middle;\n",
       "    }\n",
       "\n",
       "    .dataframe tbody tr th {\n",
       "        vertical-align: top;\n",
       "    }\n",
       "\n",
       "    .dataframe thead th {\n",
       "        text-align: right;\n",
       "    }\n",
       "</style>\n",
       "<table border=\"1\" class=\"dataframe\">\n",
       "  <thead>\n",
       "    <tr style=\"text-align: right;\">\n",
       "      <th></th>\n",
       "      <th>survived</th>\n",
       "      <th>pclass</th>\n",
       "      <th>sex</th>\n",
       "      <th>age</th>\n",
       "      <th>sibsp</th>\n",
       "      <th>parch</th>\n",
       "      <th>fare</th>\n",
       "      <th>embarked</th>\n",
       "      <th>class</th>\n",
       "      <th>who</th>\n",
       "      <th>adult_male</th>\n",
       "      <th>deck</th>\n",
       "      <th>embark_town</th>\n",
       "      <th>alive</th>\n",
       "      <th>alone</th>\n",
       "    </tr>\n",
       "  </thead>\n",
       "  <tbody>\n",
       "    <tr>\n",
       "      <th>0</th>\n",
       "      <td>0</td>\n",
       "      <td>3</td>\n",
       "      <td>male</td>\n",
       "      <td>22.0</td>\n",
       "      <td>1</td>\n",
       "      <td>0</td>\n",
       "      <td>7.2500</td>\n",
       "      <td>S</td>\n",
       "      <td>Third</td>\n",
       "      <td>man</td>\n",
       "      <td>True</td>\n",
       "      <td>NaN</td>\n",
       "      <td>Southampton</td>\n",
       "      <td>no</td>\n",
       "      <td>False</td>\n",
       "    </tr>\n",
       "    <tr>\n",
       "      <th>1</th>\n",
       "      <td>1</td>\n",
       "      <td>1</td>\n",
       "      <td>female</td>\n",
       "      <td>38.0</td>\n",
       "      <td>1</td>\n",
       "      <td>0</td>\n",
       "      <td>71.2833</td>\n",
       "      <td>C</td>\n",
       "      <td>First</td>\n",
       "      <td>woman</td>\n",
       "      <td>False</td>\n",
       "      <td>C</td>\n",
       "      <td>Cherbourg</td>\n",
       "      <td>yes</td>\n",
       "      <td>False</td>\n",
       "    </tr>\n",
       "  </tbody>\n",
       "</table>\n",
       "</div>"
      ],
      "text/plain": [
       "   survived  pclass     sex   age  sibsp  parch     fare embarked  class  \\\n",
       "0         0       3    male  22.0      1      0   7.2500        S  Third   \n",
       "1         1       1  female  38.0      1      0  71.2833        C  First   \n",
       "\n",
       "     who  adult_male deck  embark_town alive  alone  \n",
       "0    man        True  NaN  Southampton    no  False  \n",
       "1  woman       False    C    Cherbourg   yes  False  "
      ]
     },
     "execution_count": 30,
     "metadata": {},
     "output_type": "execute_result"
    }
   ],
   "source": [
    "df.head(2)"
   ]
  },
  {
   "cell_type": "code",
   "execution_count": 31,
   "id": "20755558",
   "metadata": {},
   "outputs": [
    {
     "data": {
      "text/plain": [
       "survived         0\n",
       "pclass           0\n",
       "sex              0\n",
       "age            177\n",
       "sibsp            0\n",
       "parch            0\n",
       "fare             0\n",
       "embarked         2\n",
       "class            0\n",
       "who              0\n",
       "adult_male       0\n",
       "deck           688\n",
       "embark_town      2\n",
       "alive            0\n",
       "alone            0\n",
       "dtype: int64"
      ]
     },
     "execution_count": 31,
     "metadata": {},
     "output_type": "execute_result"
    }
   ],
   "source": [
    "df.isnull().sum()"
   ]
  },
  {
   "cell_type": "code",
   "execution_count": 32,
   "id": "822cc98e",
   "metadata": {},
   "outputs": [
    {
     "data": {
      "text/html": [
       "<div>\n",
       "<style scoped>\n",
       "    .dataframe tbody tr th:only-of-type {\n",
       "        vertical-align: middle;\n",
       "    }\n",
       "\n",
       "    .dataframe tbody tr th {\n",
       "        vertical-align: top;\n",
       "    }\n",
       "\n",
       "    .dataframe thead th {\n",
       "        text-align: right;\n",
       "    }\n",
       "</style>\n",
       "<table border=\"1\" class=\"dataframe\">\n",
       "  <thead>\n",
       "    <tr style=\"text-align: right;\">\n",
       "      <th></th>\n",
       "      <th>survived</th>\n",
       "      <th>pclass</th>\n",
       "      <th>age</th>\n",
       "      <th>sibsp</th>\n",
       "      <th>parch</th>\n",
       "      <th>fare</th>\n",
       "    </tr>\n",
       "  </thead>\n",
       "  <tbody>\n",
       "    <tr>\n",
       "      <th>count</th>\n",
       "      <td>891.000000</td>\n",
       "      <td>891.000000</td>\n",
       "      <td>714.000000</td>\n",
       "      <td>891.000000</td>\n",
       "      <td>891.000000</td>\n",
       "      <td>891.000000</td>\n",
       "    </tr>\n",
       "    <tr>\n",
       "      <th>mean</th>\n",
       "      <td>0.383838</td>\n",
       "      <td>2.308642</td>\n",
       "      <td>29.699118</td>\n",
       "      <td>0.523008</td>\n",
       "      <td>0.381594</td>\n",
       "      <td>32.204208</td>\n",
       "    </tr>\n",
       "    <tr>\n",
       "      <th>std</th>\n",
       "      <td>0.486592</td>\n",
       "      <td>0.836071</td>\n",
       "      <td>14.526497</td>\n",
       "      <td>1.102743</td>\n",
       "      <td>0.806057</td>\n",
       "      <td>49.693429</td>\n",
       "    </tr>\n",
       "    <tr>\n",
       "      <th>min</th>\n",
       "      <td>0.000000</td>\n",
       "      <td>1.000000</td>\n",
       "      <td>0.420000</td>\n",
       "      <td>0.000000</td>\n",
       "      <td>0.000000</td>\n",
       "      <td>0.000000</td>\n",
       "    </tr>\n",
       "    <tr>\n",
       "      <th>25%</th>\n",
       "      <td>0.000000</td>\n",
       "      <td>2.000000</td>\n",
       "      <td>20.125000</td>\n",
       "      <td>0.000000</td>\n",
       "      <td>0.000000</td>\n",
       "      <td>7.910400</td>\n",
       "    </tr>\n",
       "    <tr>\n",
       "      <th>50%</th>\n",
       "      <td>0.000000</td>\n",
       "      <td>3.000000</td>\n",
       "      <td>28.000000</td>\n",
       "      <td>0.000000</td>\n",
       "      <td>0.000000</td>\n",
       "      <td>14.454200</td>\n",
       "    </tr>\n",
       "    <tr>\n",
       "      <th>75%</th>\n",
       "      <td>1.000000</td>\n",
       "      <td>3.000000</td>\n",
       "      <td>38.000000</td>\n",
       "      <td>1.000000</td>\n",
       "      <td>0.000000</td>\n",
       "      <td>31.000000</td>\n",
       "    </tr>\n",
       "    <tr>\n",
       "      <th>max</th>\n",
       "      <td>1.000000</td>\n",
       "      <td>3.000000</td>\n",
       "      <td>80.000000</td>\n",
       "      <td>8.000000</td>\n",
       "      <td>6.000000</td>\n",
       "      <td>512.329200</td>\n",
       "    </tr>\n",
       "  </tbody>\n",
       "</table>\n",
       "</div>"
      ],
      "text/plain": [
       "         survived      pclass         age       sibsp       parch        fare\n",
       "count  891.000000  891.000000  714.000000  891.000000  891.000000  891.000000\n",
       "mean     0.383838    2.308642   29.699118    0.523008    0.381594   32.204208\n",
       "std      0.486592    0.836071   14.526497    1.102743    0.806057   49.693429\n",
       "min      0.000000    1.000000    0.420000    0.000000    0.000000    0.000000\n",
       "25%      0.000000    2.000000   20.125000    0.000000    0.000000    7.910400\n",
       "50%      0.000000    3.000000   28.000000    0.000000    0.000000   14.454200\n",
       "75%      1.000000    3.000000   38.000000    1.000000    0.000000   31.000000\n",
       "max      1.000000    3.000000   80.000000    8.000000    6.000000  512.329200"
      ]
     },
     "execution_count": 32,
     "metadata": {},
     "output_type": "execute_result"
    }
   ],
   "source": [
    "df.describe()"
   ]
  },
  {
   "cell_type": "code",
   "execution_count": 33,
   "id": "07de818a",
   "metadata": {},
   "outputs": [],
   "source": [
    "df[\"age\"].fillna(df[\"age\"].mean(), inplace=True)"
   ]
  },
  {
   "cell_type": "code",
   "execution_count": 34,
   "id": "527f6696",
   "metadata": {},
   "outputs": [
    {
     "data": {
      "text/plain": [
       "(np.float64(22.0), np.float64(35.0))"
      ]
     },
     "execution_count": 34,
     "metadata": {},
     "output_type": "execute_result"
    }
   ],
   "source": [
    "np.percentile(df[\"age\"], 25), np.percentile(df[\"age\"], 75)"
   ]
  },
  {
   "cell_type": "code",
   "execution_count": 35,
   "id": "ca9ce8ec",
   "metadata": {},
   "outputs": [
    {
     "name": "stdout",
     "output_type": "stream",
     "text": [
      "0.42\n",
      "0.42\n",
      "-------------\n",
      "29.69911764705882\n",
      "29.69911764705882\n",
      "-------------\n",
      "80.0\n",
      "80.0\n"
     ]
    }
   ],
   "source": [
    "print(np.percentile(df[\"age\"], 0))\n",
    "print((df[\"age\"].min()))\n",
    "print(\"-------------\")\n",
    "print(np.percentile(df[\"age\"], 50))\n",
    "print((df[\"age\"].median()))\n",
    "print(\"-------------\")\n",
    "print(np.percentile(df[\"age\"], 100))\n",
    "print((df[\"age\"].max()))"
   ]
  },
  {
   "cell_type": "code",
   "execution_count": 36,
   "id": "01eb0e0e",
   "metadata": {},
   "outputs": [
    {
     "data": {
      "image/png": "[encoded data removed]",
      "text/plain": [
       "<Figure size 640x480 with 1 Axes>"
      ]
     },
     "metadata": {},
     "output_type": "display_data"
    }
   ],
   "source": [
    "sns.boxplot(x=\"age\", data=df)\n",
    "plt.show()"
   ]
  },
  {
   "cell_type": "markdown",
   "id": "bc67bb0a",
   "metadata": {},
   "source": [
    "## Measure of Shapes\n",
    "### Skewnee"
   ]
  },
  {
   "cell_type": "code",
   "execution_count": 37,
   "id": "c24aba14",
   "metadata": {},
   "outputs": [],
   "source": [
    "# normal dataset\n",
    "dataset = [2,3,3,4,4,4,5,5,5,5,6,6,6,6,6,7,7,7,7,7,7,8,8,8,8,8,9,9,9,9,10,10,10,11,11,12]"
   ]
  },
  {
   "cell_type": "code",
   "execution_count": 38,
   "id": "93af0124",
   "metadata": {},
   "outputs": [
    {
     "data": {
      "text/plain": [
       "np.float64(0.0)"
      ]
     },
     "execution_count": 38,
     "metadata": {},
     "output_type": "execute_result"
    }
   ],
   "source": [
    "df = pd.DataFrame({\"x\": dataset})\n",
    "df['x'].skew()"
   ]
  },
  {
   "cell_type": "code",
   "execution_count": 39,
   "id": "0c311c0a",
   "metadata": {},
   "outputs": [
    {
     "name": "stdout",
     "output_type": "stream",
     "text": [
      "mean: 7.0, \n",
      " median: 7.0, \n",
      " mode: 7\n"
     ]
    }
   ],
   "source": [
    "print(f\"mean: {df['x'].mean()}, \\n median: {df['x'].median()}, \\n mode: {df['x'].mode()[0]}\")"
   ]
  },
  {
   "cell_type": "code",
   "execution_count": 40,
   "id": "87d46de1",
   "metadata": {},
   "outputs": [
    {
     "data": {
      "image/png": "[encoded data removed]",
      "text/plain": [
       "<Figure size 640x480 with 1 Axes>"
      ]
     },
     "metadata": {},
     "output_type": "display_data"
    }
   ],
   "source": [
    "sns.histplot(x=\"x\", data=df,bins=[2,3,4,5,6,7,8,9,10,11,12,13])\n",
    "plt.show()"
   ]
  },
  {
   "cell_type": "code",
   "execution_count": 41,
   "id": "ef625dfe",
   "metadata": {},
   "outputs": [],
   "source": [
    "df = sns.load_dataset(\"titanic\")"
   ]
  },
  {
   "cell_type": "code",
   "execution_count": 42,
   "id": "3d96ea67",
   "metadata": {},
   "outputs": [
    {
     "data": {
      "text/plain": [
       "np.float64(0.38910778230082704)"
      ]
     },
     "execution_count": 42,
     "metadata": {},
     "output_type": "execute_result"
    }
   ],
   "source": [
    "df[\"age\"].skew()  # here skew is greater then 0 so this is positive skewness"
   ]
  },
  {
   "cell_type": "code",
   "execution_count": 43,
   "id": "b79cffb4",
   "metadata": {},
   "outputs": [
    {
     "data": {
      "image/png": "[encoded data removed]",
      "text/plain": [
       "<Figure size 640x480 with 1 Axes>"
      ]
     },
     "metadata": {},
     "output_type": "display_data"
    }
   ],
   "source": [
    "sns.histplot(data=df, x=\"age\")\n",
    "plt.show()"
   ]
  },
  {
   "cell_type": "code",
   "execution_count": 44,
   "id": "a79c6aae",
   "metadata": {},
   "outputs": [
    {
     "name": "stdout",
     "output_type": "stream",
     "text": [
      "mean: 29.69911764705882, \n",
      " median: 28.0, \n",
      " mode: 24.0\n"
     ]
    }
   ],
   "source": [
    "print(f\"mean: {df['age'].mean()}, \\n median: {df['age'].median()}, \\n mode: {df['age'].mode()[0]}\")"
   ]
  },
  {
   "cell_type": "markdown",
   "id": "2c4261b4",
   "metadata": {},
   "source": [
    "# Probability\n",
    "### Random variables\n",
    "1. Discrete Probability\n",
    "2. Continuous Probability"
   ]
  },
  {
   "cell_type": "markdown",
   "id": "02f97043",
   "metadata": {},
   "source": [
    "# Probability Distribution\n",
    "1. Discrete Probability Distribution\n",
    "2. Continuous Probability Distribution"
   ]
  },
  {
   "cell_type": "markdown",
   "id": "c257288b",
   "metadata": {},
   "source": [
    "# Probability Distribution Functions\n",
    "1. Probability Density Function (PDF)  for continuous data\n",
    "2. Probability Mass Function (PMF)     for Discrete data\n",
    "3. Cumulative Density Function (CDF)"
   ]
  },
  {
   "cell_type": "markdown",
   "id": "8c83fec2",
   "metadata": {},
   "source": [
    "# Normal Distribution\n",
    "- Its known as Gaussian Distribution that is symmetric about mean.\n",
    "- `f(x) = (1/σ√2π)e^(-0.5((x-μ)/σ)^2)`"
   ]
  },
  {
   "cell_type": "markdown",
   "id": "f4ea30e9",
   "metadata": {},
   "source": [
    "# Standard Normal Distribution\n",
    "- also known as z distribution or z-score, is a special case of normal distribution.\n",
    "- mean (μ) of 0 and a standard deviation (σ) of 1."
   ]
  },
  {
   "cell_type": "markdown",
   "id": "9858456c",
   "metadata": {},
   "source": [
    "# Covariance and Correlation"
   ]
  },
  {
   "cell_type": "markdown",
   "id": "852826ec",
   "metadata": {},
   "source": [
    "#### Correlation Range (-1 to 1)\n",
    "- corr = 0 means no relation between them.\n",
    "- corr = 0 to 0.5 means weak positive relation between them.\n",
    "- corr = 0 to -0.5 means weak negative relation between them.\n",
    "- corr = 0.5 to 1.0 means strong positive relation between them.\n",
    "- corr = -0.5 to -1.0 means strong negative relation between them."
   ]
  },
  {
   "cell_type": "code",
   "execution_count": 45,
   "id": "5a35bd77",
   "metadata": {},
   "outputs": [
    {
     "data": {
      "text/html": [
       "<div>\n",
       "<style scoped>\n",
       "    .dataframe tbody tr th:only-of-type {\n",
       "        vertical-align: middle;\n",
       "    }\n",
       "\n",
       "    .dataframe tbody tr th {\n",
       "        vertical-align: top;\n",
       "    }\n",
       "\n",
       "    .dataframe thead th {\n",
       "        text-align: right;\n",
       "    }\n",
       "</style>\n",
       "<table border=\"1\" class=\"dataframe\">\n",
       "  <thead>\n",
       "    <tr style=\"text-align: right;\">\n",
       "      <th></th>\n",
       "      <th>total_bill</th>\n",
       "      <th>tip</th>\n",
       "      <th>sex</th>\n",
       "      <th>smoker</th>\n",
       "      <th>day</th>\n",
       "      <th>time</th>\n",
       "      <th>size</th>\n",
       "    </tr>\n",
       "  </thead>\n",
       "  <tbody>\n",
       "    <tr>\n",
       "      <th>0</th>\n",
       "      <td>16.99</td>\n",
       "      <td>1.01</td>\n",
       "      <td>Female</td>\n",
       "      <td>No</td>\n",
       "      <td>Sun</td>\n",
       "      <td>Dinner</td>\n",
       "      <td>2</td>\n",
       "    </tr>\n",
       "    <tr>\n",
       "      <th>1</th>\n",
       "      <td>10.34</td>\n",
       "      <td>1.66</td>\n",
       "      <td>Male</td>\n",
       "      <td>No</td>\n",
       "      <td>Sun</td>\n",
       "      <td>Dinner</td>\n",
       "      <td>3</td>\n",
       "    </tr>\n",
       "  </tbody>\n",
       "</table>\n",
       "</div>"
      ],
      "text/plain": [
       "   total_bill   tip     sex smoker  day    time  size\n",
       "0       16.99  1.01  Female     No  Sun  Dinner     2\n",
       "1       10.34  1.66    Male     No  Sun  Dinner     3"
      ]
     },
     "execution_count": 45,
     "metadata": {},
     "output_type": "execute_result"
    }
   ],
   "source": [
    "df = sns.load_dataset(\"tips\")\n",
    "df.head(2)"
   ]
  },
  {
   "cell_type": "code",
   "execution_count": 46,
   "id": "25e24740",
   "metadata": {},
   "outputs": [
    {
     "data": {
      "text/plain": [
       "total_bill    0\n",
       "tip           0\n",
       "sex           0\n",
       "smoker        0\n",
       "day           0\n",
       "time          0\n",
       "size          0\n",
       "dtype: int64"
      ]
     },
     "execution_count": 46,
     "metadata": {},
     "output_type": "execute_result"
    }
   ],
   "source": [
    "df.isnull().sum()"
   ]
  },
  {
   "cell_type": "code",
   "execution_count": 47,
   "id": "c464278e",
   "metadata": {},
   "outputs": [
    {
     "name": "stdout",
     "output_type": "stream",
     "text": [
      "<class 'pandas.core.frame.DataFrame'>\n",
      "RangeIndex: 244 entries, 0 to 243\n",
      "Data columns (total 7 columns):\n",
      " #   Column      Non-Null Count  Dtype   \n",
      "---  ------      --------------  -----   \n",
      " 0   total_bill  244 non-null    float64 \n",
      " 1   tip         244 non-null    float64 \n",
      " 2   sex         244 non-null    category\n",
      " 3   smoker      244 non-null    category\n",
      " 4   day         244 non-null    category\n",
      " 5   time        244 non-null    category\n",
      " 6   size        244 non-null    int64   \n",
      "dtypes: category(4), float64(2), int64(1)\n",
      "memory usage: 7.4 KB\n"
     ]
    }
   ],
   "source": [
    "df.info()"
   ]
  },
  {
   "cell_type": "code",
   "execution_count": 48,
   "id": "a2b2fbb3",
   "metadata": {},
   "outputs": [],
   "source": [
    "data_corr =df.select_dtypes([\"float64\",\"int64\"]).corr()"
   ]
  },
  {
   "cell_type": "code",
   "execution_count": 49,
   "id": "b11c4a6c",
   "metadata": {},
   "outputs": [],
   "source": [
    "data_cov = df.select_dtypes([\"float64\",\"int64\"]).cov()"
   ]
  },
  {
   "cell_type": "code",
   "execution_count": 50,
   "id": "2c6b8c0e",
   "metadata": {},
   "outputs": [
    {
     "data": {
      "image/png": "[encoded data removed]",
      "text/plain": [
       "<Figure size 400x300 with 2 Axes>"
      ]
     },
     "metadata": {},
     "output_type": "display_data"
    }
   ],
   "source": [
    "plt.figure(figsize=(4,3))\n",
    "sns.heatmap(data_corr, annot=True)\n",
    "plt.show()\n"
   ]
  },
  {
   "cell_type": "code",
   "execution_count": 51,
   "id": "cf5b6d97",
   "metadata": {},
   "outputs": [
    {
     "data": {
      "image/png": "[encoded data removed]",
      "text/plain": [
       "<Figure size 400x300 with 2 Axes>"
      ]
     },
     "metadata": {},
     "output_type": "display_data"
    }
   ],
   "source": [
    "plt.figure(figsize=(4,3))\n",
    "sns.heatmap(data_cov, annot=True)\n",
    "plt.show()\n"
   ]
  },
  {
   "cell_type": "markdown",
   "id": "c52d9484",
   "metadata": {},
   "source": [
    "# Central Limit Theorem (CLT) "
   ]
  },
  {
   "cell_type": "code",
   "execution_count": 52,
   "id": "95e1349b",
   "metadata": {},
   "outputs": [],
   "source": [
    "pop_data = [np.random.randint(10,100) for i in range(10000)]\n",
    "pop_table = pd.DataFrame({\"pop_data\": pop_data})"
   ]
  },
  {
   "cell_type": "code",
   "execution_count": 53,
   "id": "995b7167",
   "metadata": {},
   "outputs": [
    {
     "data": {
      "text/plain": [
       "np.float64(54.6163)"
      ]
     },
     "execution_count": 53,
     "metadata": {},
     "output_type": "execute_result"
    }
   ],
   "source": [
    "np.mean(pop_data)"
   ]
  },
  {
   "cell_type": "code",
   "execution_count": 54,
   "id": "829ac16d",
   "metadata": {},
   "outputs": [
    {
     "data": {
      "image/png": "[encoded data removed]",
      "text/plain": [
       "<Figure size 300x200 with 1 Axes>"
      ]
     },
     "metadata": {},
     "output_type": "display_data"
    }
   ],
   "source": [
    "plt.figure(figsize=(3,2))\n",
    "sns.kdeplot(x=\"pop_data\", data=pop_table)\n",
    "plt.show()"
   ]
  },
  {
   "cell_type": "code",
   "execution_count": 55,
   "id": "ff7b65b8",
   "metadata": {},
   "outputs": [
    {
     "name": "stdout",
     "output_type": "stream",
     "text": [
      "1000.0\n"
     ]
    }
   ],
   "source": [
    "pert = (10000*10)/100\n",
    "print(pert)"
   ]
  },
  {
   "cell_type": "code",
   "execution_count": 56,
   "id": "d8c5e6b2",
   "metadata": {},
   "outputs": [],
   "source": [
    "sample_mean = []\n",
    "for no_sample in range(60):\n",
    "    sample_data = []\n",
    "    for data in range(500):\n",
    "        sample_data.append(np.random.choice(pop_data))\n",
    "    sample_mean.append(np.mean(sample_data))"
   ]
  },
  {
   "cell_type": "code",
   "execution_count": 57,
   "id": "dc6d99eb",
   "metadata": {},
   "outputs": [
    {
     "data": {
      "text/plain": [
       "np.float64(55.33)"
      ]
     },
     "execution_count": 57,
     "metadata": {},
     "output_type": "execute_result"
    }
   ],
   "source": [
    "np.mean(sample_data)"
   ]
  },
  {
   "cell_type": "code",
   "execution_count": 58,
   "id": "cc8d7a84",
   "metadata": {},
   "outputs": [],
   "source": [
    "sample_m = pd.DataFrame({\"sample_Mean\": sample_mean})"
   ]
  },
  {
   "cell_type": "code",
   "execution_count": 59,
   "id": "b68ce25d",
   "metadata": {},
   "outputs": [
    {
     "data": {
      "image/png": "[encoded data removed]",
      "text/plain": [
       "<Figure size 300x200 with 1 Axes>"
      ]
     },
     "metadata": {},
     "output_type": "display_data"
    }
   ],
   "source": [
    "plt.figure(figsize=(3,2))\n",
    "sns.kdeplot(x = \"sample_Mean\", data=sample_m)\n",
    "plt.show()"
   ]
  },
  {
   "cell_type": "markdown",
   "id": "421ebce5",
   "metadata": {},
   "source": [
    "# Hypothesis Testing\n",
    "- Null Hypothesis Testing (Ho) (A=B)\n",
    "- Alternative Hypothesis Testing (Ha) (A!=B)\n",
    "- Hypothesis Testing are use : 1. Z-test,  2. T-test,   3. Chi-square test"
   ]
  },
  {
   "cell_type": "markdown",
   "id": "2aa379ee",
   "metadata": {},
   "source": [
    "steps of Hypothesis Testing\n",
    "1. Define the null and alternative hypotheses.\n",
    "2. Choose a significance level (alpha).\n",
    "3. Collect data and calculate a test statistic.\n",
    "4. Determine the p-value or critical value.\n",
    "5. Make a decision: reject or fail to reject the null hypothesis."
   ]
  },
  {
   "cell_type": "markdown",
   "id": "1fe62c3d",
   "metadata": {},
   "source": [
    "steps of Hypothesis Testing\n",
    "1. State null (H0) and alternative (H1) Hypothesis\n",
    "2. Choose level of Significance (alpha)\n",
    "3. Find critical values\n",
    "4. Find test statistic\n",
    "5. Draw your conclusion"
   ]
  },
  {
   "cell_type": "markdown",
   "id": "f3ede6c6",
   "metadata": {},
   "source": [
    "#  Z-test \n",
    "- sample size (n) > 30"
   ]
  },
  {
   "cell_type": "markdown",
   "id": "37c776ef",
   "metadata": {},
   "source": [
    "example : A teacher claims that the mean score of students in his class is greater than 82 with a standard deviation of 20. if a sample of 81 students was selected with a mean score of 90.\n",
    "- `Z_test = ((x̄-μ)/(σ/√n))`"
   ]
  },
  {
   "cell_type": "code",
   "execution_count": 60,
   "id": "b6129743",
   "metadata": {},
   "outputs": [
    {
     "name": "stdout",
     "output_type": "stream",
     "text": [
      "Z-test value: 3.6\n"
     ]
    }
   ],
   "source": [
    "# mean=82, std=20, no_sample = 81, x bar(sample mean)=90\n",
    "# Ho is not equal to 82\n",
    "# Ha is greater than 82\n",
    "# alpha = 0.05\n",
    "# data is normally distributed\n",
    "# z value at 0.95 is 1.645\n",
    "z_test = (90 - 82) / (20 / np.sqrt(81))\n",
    "print(f\"Z-test value: {z_test.round(2)}\")\n",
    "# Since the Z-test value is greater than the critical value of 1.645, we reject the null hypothesis."
   ]
  },
  {
   "cell_type": "code",
   "execution_count": 61,
   "id": "3af5705a",
   "metadata": {},
   "outputs": [
    {
     "name": "stdout",
     "output_type": "stream",
     "text": [
      "z from table: 1.6448536269514722\n"
     ]
    }
   ],
   "source": [
    "z_table = stats.norm.ppf(0.95)  # This gives the critical value for a one-tailed test at alpha = 0.05\n",
    "print(f\"z from table: {z_table}\")"
   ]
  },
  {
   "cell_type": "code",
   "execution_count": 62,
   "id": "2506bad8",
   "metadata": {},
   "outputs": [
    {
     "name": "stdout",
     "output_type": "stream",
     "text": [
      "Calculated Z value: 3.6\n"
     ]
    }
   ],
   "source": [
    "s_x_bar = 90\n",
    "p_u = 82\n",
    "p_sigma = 20\n",
    "n = 81\n",
    "\n",
    "z_cal = (s_x_bar - p_u) / (p_sigma / np.sqrt(n))\n",
    "print(f\"Calculated Z value: {z_cal.round(2)}\")"
   ]
  },
  {
   "cell_type": "code",
   "execution_count": 63,
   "id": "89219fe0",
   "metadata": {},
   "outputs": [
    {
     "name": "stdout",
     "output_type": "stream",
     "text": [
      "Reject the null hypothesis\n",
      "Ha is right\n"
     ]
    }
   ],
   "source": [
    "if z_table < z_cal:\n",
    "    print(\"Reject the null hypothesis\")\n",
    "    print(\"Ha is right\")\n",
    "else:\n",
    "    print(\"Fail to reject the null hypothesis\")\n",
    "    print(\"Ho is right\")\n"
   ]
  },
  {
   "cell_type": "markdown",
   "id": "625106cb",
   "metadata": {},
   "source": [
    "# T-test\n",
    "- sample size (n) < 30\n",
    "- `T_test = ((x̄-μ)/(S/√n))`\n",
    "- degree of freedom = df = n-1"
   ]
  },
  {
   "cell_type": "markdown",
   "id": "d231e2e2",
   "metadata": {},
   "source": [
    "exaample: A manufacturer  claims that the average weight of a bag of potato chips is 150 grams. A sample of 25 bags is taken, and the average weight is found to be 148 grams, with a standard deviation of 5 grams. Test the manufacturer's claim using a one-tailed t-test with a significance level of 0.05."
   ]
  },
  {
   "cell_type": "code",
   "execution_count": 64,
   "id": "0dc3eb6b",
   "metadata": {},
   "outputs": [
    {
     "name": "stdout",
     "output_type": "stream",
     "text": [
      "Critical t value from table: -1.66\n"
     ]
    }
   ],
   "source": [
    "# Ho: u = 150 grams\n",
    "# Ha: u < 150 grams\n",
    "alpha = 0.05\n",
    "df = n - 1  # degree of freedom\n",
    "t_table = stats.t.ppf(alpha, df)\n",
    "print(f\"Critical t value from table: {t_table.round(2)}\")"
   ]
  },
  {
   "cell_type": "code",
   "execution_count": 65,
   "id": "e1260bb4",
   "metadata": {},
   "outputs": [
    {
     "name": "stdout",
     "output_type": "stream",
     "text": [
      "Calculated T value: -2.0\n"
     ]
    }
   ],
   "source": [
    "pop_mean = u = 150\n",
    "samp_x_bar = 148\n",
    "no_samples = n = 25\n",
    "std_dev = S = 5\n",
    "\n",
    "t_cal = (samp_x_bar - pop_mean) / (std_dev / np.sqrt(no_samples))\n",
    "print(f\"Calculated T value: {t_cal.round(2)}\")"
   ]
  },
  {
   "cell_type": "code",
   "execution_count": 66,
   "id": "54af3067",
   "metadata": {},
   "outputs": [
    {
     "name": "stdout",
     "output_type": "stream",
     "text": [
      "Reject the null hypothesis\n",
      "Ha is right\n"
     ]
    }
   ],
   "source": [
    "if t_table > t_cal:\n",
    "    print(\"Reject the null hypothesis\")\n",
    "    print(\"Ha is right\")\n",
    "else:\n",
    "    print(\"Fail to reject the null hypothesis\")\n",
    "    print(\"Ho is right\")\n"
   ]
  },
  {
   "cell_type": "markdown",
   "id": "6ae89afc",
   "metadata": {},
   "source": [
    "# chi Square Test\n",
    "- application of two types of situations\n",
    "- Goodness\n",
    "- Independence\n",
    "- Chi_Square `(X^2) = Σ(((Oi - Ei)^2)/Ei)`\n",
    "- Oi = observed value\n",
    "- Ei = expected value"
   ]
  },
  {
   "cell_type": "markdown",
   "id": "e551ad86",
   "metadata": {},
   "source": [
    "Example 01: A fair die is rolled 120 times and the following results are obtained:\n",
    "- Faec 1: 22 times\n",
    "- Faec 2: 17 times\n",
    "- Faec 3: 20 times\n",
    "- Faec 4: 26 times\n",
    "- Faec 5: 22 times\n",
    "- Faec 6: 13 times\n",
    "- Test at a 5% level of significance whether the die is fair."
   ]
  },
  {
   "cell_type": "code",
   "execution_count": 67,
   "id": "fccee725",
   "metadata": {},
   "outputs": [
    {
     "name": "stdout",
     "output_type": "stream",
     "text": [
      "Critical chi-squared value from table: 11.07\n"
     ]
    }
   ],
   "source": [
    "# Ho die is fair\n",
    "# Ha die is not fair\n",
    "n = 6\n",
    "alpha = 0.05\n",
    "df = n - 1  # degree of freedom\n",
    "chi_table = stats.chi2.ppf(1 - alpha, df)\n",
    "print(f\"Critical chi-squared value from table: {chi_table.round(2)}\")\n"
   ]
  },
  {
   "cell_type": "code",
   "execution_count": 68,
   "id": "875ed29c",
   "metadata": {},
   "outputs": [
    {
     "name": "stdout",
     "output_type": "stream",
     "text": [
      "Calculated Chi-squared value: 5.1\n",
      "Fail to reject the null hypothesis\n",
      "Ho is right\n"
     ]
    }
   ],
   "source": [
    "observed = np.array([22, 17, 20, 26, 22, 13])  # observed values\n",
    "expected = np.array([20, 20, 20, 20, 20, 20])  # expected values\n",
    "chi_cal = (observed - expected)**2 / expected\n",
    "print(f\"Calculated Chi-squared value: {chi_cal.sum().round(2)}\")\n",
    "\n",
    "if chi_cal.sum() > chi_table:\n",
    "    print(\"Reject the null hypothesis\")\n",
    "    print(\"Ha is right\")\n",
    "else:\n",
    "    print(\"Fail to reject the null hypothesis\")\n",
    "    print(\"Ho is right\")\n"
   ]
  },
  {
   "cell_type": "markdown",
   "id": "ca62752d",
   "metadata": {},
   "source": [
    "Example 02: A study was conducted to investigate whether there is a relationship between gender and the preferred genre of music. A sample of 235 people was selected, and the data collected is show below. Test at a 5% level of significance whether there is a significance association(relation) between gender and music preference.<br>\n",
    "`Male = {\"pop\":40,\"Hip Hop\":45, \"Classical\":25, \"Rock\":10}`<br>\n",
    "`Female = {\"pop\":35,\"Hip Hop\":30, \"Classical\":20, \"Rock\":30}`"
   ]
  },
  {
   "cell_type": "code",
   "execution_count": 84,
   "id": "e2a18355",
   "metadata": {},
   "outputs": [
    {
     "name": "stdout",
     "output_type": "stream",
     "text": [
      "Critical chi-squared value from table: 7.81\n"
     ]
    }
   ],
   "source": [
    "Male = {\"pop\":40,\"Hip Hop\":45, \"Classical\":25, \"Rock\":10}\n",
    "Female = {\"pop\":35,\"Hip Hop\":30, \"Classical\":20, \"Rock\":30}\n",
    "rows = 2  # Male and Female\n",
    "cols = 4  # pop, Hip Hop, Classical, Rock\n",
    "alpha = 0.05\n",
    "df = (rows - 1) * (cols - 1)\n",
    "chi_table = stats.chi2.ppf(1 - alpha, df)\n",
    "print(f\"Critical chi-squared value from table: {chi_table.round(2)}\")\n"
   ]
  },
  {
   "cell_type": "code",
   "execution_count": 85,
   "id": "86c19f7c",
   "metadata": {},
   "outputs": [
    {
     "name": "stdout",
     "output_type": "stream",
     "text": [
      "Row sums: [120 115]\n",
      "Column sums: [75 75 45 40]\n"
     ]
    }
   ],
   "source": [
    "# Ho no Association\n",
    "# Ha Association exists\n",
    "row1 = [40, 45, 25, 10]\n",
    "row2 = [35, 30, 20, 30]\n",
    "sum_row1 = sum(row1)\n",
    "sum_row2 = sum(row2)\n",
    "sum_row = np.array([sum_row1, sum_row2])\n",
    "print(f\"Row sums: {sum_row}\")\n",
    "sum_col = np.array([row1[i] + row2[i] for i in range(len(row1))])\n",
    "print(f\"Column sums: {sum_col}\")\n"
   ]
  },
  {
   "cell_type": "code",
   "execution_count": 86,
   "id": "dd2b5e83",
   "metadata": {},
   "outputs": [],
   "source": [
    "expected_values = []\n",
    "for i in sum_row:\n",
    "    for j in sum_col:\n",
    "        value = (i * j) / 235\n",
    "        expected_values.append(value)"
   ]
  },
  {
   "cell_type": "code",
   "execution_count": 87,
   "id": "a75e5e44",
   "metadata": {},
   "outputs": [],
   "source": [
    "observed_values = np.array([row1, row2]).flatten()"
   ]
  },
  {
   "cell_type": "code",
   "execution_count": 88,
   "id": "366e3495",
   "metadata": {},
   "outputs": [
    {
     "name": "stdout",
     "output_type": "stream",
     "text": [
      "Calculated Chi-squared value: 13.79\n"
     ]
    }
   ],
   "source": [
    "chi_cal = np.sum((np.square(observed_values - expected_values)) / expected_values)\n",
    "print(f\"Calculated Chi-squared value: {chi_cal.round(2)}\")"
   ]
  },
  {
   "cell_type": "code",
   "execution_count": 89,
   "id": "dfb717c4",
   "metadata": {},
   "outputs": [
    {
     "name": "stdout",
     "output_type": "stream",
     "text": [
      "Reject the null hypothesis\n",
      "Ha is right\n"
     ]
    }
   ],
   "source": [
    "if chi_cal > chi_table:\n",
    "   print(\"Reject the null hypothesis\")\n",
    "   print(\"Ha is right\")\n",
    "else:\n",
    "    print(\"Fail to reject the null hypothesis\")\n",
    "    print(\"Ho is right\")\n"
   ]
  }
 ],
 "metadata": {
  "kernelspec": {
   "display_name": "data_analysis",
   "language": "python",
   "name": "python3"
  },
  "language_info": {
   "codemirror_mode": {
    "name": "ipython",
    "version": 3
   },
   "file_extension": ".py",
   "mimetype": "text/x-python",
   "name": "python",
   "nbconvert_exporter": "python",
   "pygments_lexer": "ipython3",
   "version": "3.13.0"
  }
 },
 "nbformat": 4,
 "nbformat_minor": 5
}
