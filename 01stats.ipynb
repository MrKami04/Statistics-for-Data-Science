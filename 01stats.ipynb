{
 "cells": [
  {
   "cell_type": "code",
   "execution_count": null,
   "id": "6261be92",
   "metadata": {},
   "outputs": [],
   "source": [
    "import pandas as pd\n",
    "import numpy as np\n",
    "import scipy.stats as stats\n",
    "from statistics import multimode\n",
    "import statistics as stats"
   ]
  },
  {
   "cell_type": "code",
   "execution_count": 9,
   "id": "a69db4bb",
   "metadata": {},
   "outputs": [
    {
     "name": "stdout",
     "output_type": "stream",
     "text": [
      "mean of the data: 9.0\n"
     ]
    }
   ],
   "source": [
    "\n",
    "values = [4,11,7,14]\n",
    "x =np.mean(values)\n",
    "print(f\"mean of the data: {x}\")"
   ]
  },
  {
   "cell_type": "code",
   "execution_count": 10,
   "id": "93f3db9d",
   "metadata": {},
   "outputs": [
    {
     "name": "stdout",
     "output_type": "stream",
     "text": [
      "median of the data: 41.0\n"
     ]
    }
   ],
   "source": [
    "values = [13,21,21,40,42,48,55,72]\n",
    "x = np.median(values)\n",
    "print(f\"median of the data: {x}\")"
   ]
  },
  {
   "cell_type": "code",
   "execution_count": null,
   "id": "9baec8f6",
   "metadata": {},
   "outputs": [
    {
     "name": "stdout",
     "output_type": "stream",
     "text": [
      "mode of the data: 7\n",
      "multimode of the data: [7, 12]\n"
     ]
    }
   ],
   "source": [
    "\n",
    "values = [4,7,3,8,11,7,10,19,6,9,12,12]\n",
    "x = stats.mode(values)\n",
    "y = multimode(values)\n",
    "print(f\"mode of the data: {x}\")\n",
    "print(f\"multimode of the data: {y}\")\n"
   ]
  },
  {
   "cell_type": "code",
   "execution_count": 15,
   "id": "8ed101a0",
   "metadata": {},
   "outputs": [
    {
     "name": "stdout",
     "output_type": "stream",
     "text": [
      "mode of the data 0    7\n",
      "dtype: int64\n"
     ]
    }
   ],
   "source": [
    "values = [4,7,3,8,11,7,10,19,6,9,12]\n",
    "s = pd.Series(values)\n",
    "print(f\"mode of the data {s.mode()}\") "
   ]
  },
  {
   "cell_type": "code",
   "execution_count": 17,
   "id": "58ed03bf",
   "metadata": {},
   "outputs": [
    {
     "name": "stdout",
     "output_type": "stream",
     "text": [
      "range of the data: 59\n",
      "range of the data: 59\n"
     ]
    }
   ],
   "source": [
    "values = [13,21,21,40,48,55,72]\n",
    "s = np.ptp(values)\n",
    "print(f\"range of the data: {s}\")\n",
    "print(f\"range of the data: {np.max(values) - np.min(values)}\")"
   ]
  },
  {
   "cell_type": "code",
   "execution_count": 26,
   "id": "e7d59a3c",
   "metadata": {},
   "outputs": [
    {
     "name": "stdout",
     "output_type": "stream",
     "text": [
      "The 25th percentile (P25%) is the same as the first quartile (Q1): 21.0.\n",
      "The 50th percentile (P50%) is the same as the second quartile (Q2) and the median: 41.0.\n",
      "The 75th percentile (P75%) is the same as the third quartile (Q3): 49.75.\n"
     ]
    }
   ],
   "source": [
    "values = [13,21,21,40,42,48,55,72]\n",
    "q1 = np.quantile(values,0.25)\n",
    "q2 = np.quantile(values,0.50)\n",
    "q3 = np.quantile(values,0.75)\n",
    "\n",
    "print(f\"The 25th percentile (P25%) is the same as the first quartile (Q1): {q1}.\")\n",
    "\n",
    "print(f\"The 50th percentile (P50%) is the same as the second quartile (Q2) and the median: {q2}.\")\n",
    "\n",
    "print(f\"The 75th percentile (P75%) is the same as the third quartile (Q3): {q3}.\")\n",
    "\n"
   ]
  },
  {
   "cell_type": "code",
   "execution_count": 27,
   "id": "9881c9a3",
   "metadata": {},
   "outputs": [
    {
     "name": "stdout",
     "output_type": "stream",
     "text": [
      "The 65th percentile (P65%) is: 45.3.\n"
     ]
    }
   ],
   "source": [
    "values = [13,21,21,40,42,48,55,72]\n",
    "x = np.percentile(values, 65)\n",
    "print(f\"The 65th percentile (P65%) is: {x}.\")"
   ]
  },
  {
   "cell_type": "code",
   "execution_count": null,
   "id": "c9b61740",
   "metadata": {},
   "outputs": [
    {
     "name": "stdout",
     "output_type": "stream",
     "text": [
      "The interquartile range (IQR) is: 28.75.\n",
      "The interquartile range (IQR) can also be calculated as Q3 - Q1: 28.75.\n"
     ]
    }
   ],
   "source": [
    "values = [13,21,21,40,42,48,55,72]\n",
    "x = stats.iqr(values)\n",
    "print(f\"The interquartile range (IQR) is: {x}.\")\n",
    "print(f\"The interquartile range (IQR) can also be calculated as Q3 - Q1: {q3 - q1}.\")"
   ]
  },
  {
   "cell_type": "code",
   "execution_count": 33,
   "id": "d378bdd7",
   "metadata": {},
   "outputs": [
    {
     "name": "stdout",
     "output_type": "stream",
     "text": [
      "The standard deviation (SD) is: 18.57417562100671.\n",
      "The standard deviation (SD) can also be calculated as the square root of the variance: 18.57417562100671.\n",
      "The standard deviation (SD): 19.85662897587892 (using Bessel's correction).\n"
     ]
    }
   ],
   "source": [
    "values = [13,21,21,40,42,48,55,72]\n",
    "x = np.std(values)\n",
    "print(f\"The standard deviation (SD) is: {x}.\")\n",
    "print(f\"The standard deviation (SD) can also be calculated as the square root of the variance: {np.sqrt(np.var(values))}.\")\n",
    "print(f\"The standard deviation (SD): {np.std(values, ddof=1)} (using Bessel's correction).\")"
   ]
  },
  {
   "cell_type": "code",
   "execution_count": 40,
   "id": "436aede8",
   "metadata": {},
   "outputs": [
    {
     "name": "stdout",
     "output_type": "stream",
     "text": [
      "Bob's Z-score is: 3.0\n"
     ]
    }
   ],
   "source": [
    "# Z-Values\n",
    "\"\"\"The mean height of people in Germany is 170 cm (mu) \n",
    "The standard deviation of the height of people in Germany is 10 cm (sigma)\\n\n",
    "Bob is 200 cm tall (x)\"\"\"\n",
    "mu = 170\n",
    "sigma = 10\n",
    "x = 200\n",
    "z = (x - mu) / sigma\n",
    "print(f\"Bob's Z-score is: {z}\")"
   ]
  },
  {
   "cell_type": "code",
   "execution_count": 43,
   "id": "d680d8f3",
   "metadata": {},
   "outputs": [
    {
     "name": "stdout",
     "output_type": "stream",
     "text": [
      "0.9986501019683699\n",
      "1.2815515655446004\n"
     ]
    }
   ],
   "source": [
    "print(stats.norm.cdf(3))\n",
    "print(stats.norm.ppf(0.9))\n"
   ]
  }
 ],
 "metadata": {
  "kernelspec": {
   "display_name": "data_analysis",
   "language": "python",
   "name": "python3"
  },
  "language_info": {
   "codemirror_mode": {
    "name": "ipython",
    "version": 3
   },
   "file_extension": ".py",
   "mimetype": "text/x-python",
   "name": "python",
   "nbconvert_exporter": "python",
   "pygments_lexer": "ipython3",
   "version": "3.13.5"
  }
 },
 "nbformat": 4,
 "nbformat_minor": 5
}
