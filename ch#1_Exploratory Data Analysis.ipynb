{
 "cells": [
  {
   "cell_type": "markdown",
   "id": "6837dedd",
   "metadata": {},
   "source": [
    "# Exploratory Data Analysis\n",
    "### Elements of structured data\n",
    "- data comes from many sources.\n",
    "- there are two basic types of structured data; **numeric and categorical**. \n",
    "- **numeri**c data comes in two forms: **continuous and discrete.**\n",
    "- **categorical** takes only fixed set of values such as TV screen\n",
    "- **binary data** is important special case of categorical data that takes only one of two values such as 0/1, yes/no or true/ false.\n",
    "- categorical types is **ordinal data **: in which categories are ordered as numerical rating(1,2,3,4,5) stars.\n",
    "- why data type **important**: To help determine the type of visual display, data analysis or statistical model and improve computational performance"
   ]
  },
  {
   "cell_type": "markdown",
   "id": "8d4d3832",
   "metadata": {},
   "source": [
    "### Key Ideas\n",
    "- data is typically classified in software by type.\n",
    "- data type include numeric (continuous, discrete) and categorical (binary, ordinal).\n",
    "- data typing in software acts as a signal to the software on how to process the data."
   ]
  },
  {
   "cell_type": "markdown",
   "id": "d8d34d85",
   "metadata": {},
   "source": [
    "### Rectangular data\n",
    "- Typical frame of reference for analysis in data science is  rectangular data object, like spreadsheet or database table\n",
    "- rectangular data is general term for  two-dimensional matrix with rows indicating records(cases) and columns indicating features(variables)\n",
    "- columns names is data-science : column, attribute, input, predictor, variable, Field, Dimension, Independent variable, Key.\n",
    "- rows names is data-science : row, record, case, example, instance, observation, pattern, sample, Tuple, Data Point, Entry."
   ]
  },
  {
   "cell_type": "markdown",
   "id": "21fac533",
   "metadata": {},
   "source": [
    "### Nonrectangular data structures\n",
    "- Time series data\n",
    "- Spatial data (mapping and location)"
   ]
  },
  {
   "cell_type": "markdown",
   "id": "5c7db272",
   "metadata": {},
   "source": [
    "### Estimates of location\n",
    "- **estimate** of where most of the data is located i.e its central tendency.\n",
    "- **Mean(average):** sum of all values divided by number of values.\n",
    "- **Weighted mean**\n",
    "- **Median :** One half of data lies above and below as 50th percentile.\n",
    "- **Percentile:** value such that P percent of data lies below as quantile.\n",
    "- **Trimmed mean:** average of all values after dropping fixed number of extreme values. as truncated mean.\n",
    "- **Robust:** Not sensitive to extreme values. as resistant.\n",
    "- **Outlier:** data value that is very different from most of data as extreme value"
   ]
  },
  {
   "cell_type": "code",
   "execution_count": 23,
   "id": "3a4d734a",
   "metadata": {},
   "outputs": [],
   "source": [
    "import pandas as pd\n",
    "import numpy as np\n",
    "from scipy.stats import trim_mean"
   ]
  },
  {
   "cell_type": "code",
   "execution_count": 24,
   "id": "72559622",
   "metadata": {},
   "outputs": [
    {
     "name": "stderr",
     "output_type": "stream",
     "text": [
      "<>:1: SyntaxWarning: invalid escape sequence '\\S'\n",
      "<>:1: SyntaxWarning: invalid escape sequence '\\S'\n",
      "C:\\Users\\Kamran\\AppData\\Local\\Temp\\ipykernel_2860\\1139261898.py:1: SyntaxWarning: invalid escape sequence '\\S'\n",
      "  state = pd.read_csv(\"E:\\Statistics-for-Data-Science\\population_murder_rate.csv\")\n"
     ]
    },
    {
     "data": {
      "text/html": [
       "<div>\n",
       "<style scoped>\n",
       "    .dataframe tbody tr th:only-of-type {\n",
       "        vertical-align: middle;\n",
       "    }\n",
       "\n",
       "    .dataframe tbody tr th {\n",
       "        vertical-align: top;\n",
       "    }\n",
       "\n",
       "    .dataframe thead th {\n",
       "        text-align: right;\n",
       "    }\n",
       "</style>\n",
       "<table border=\"1\" class=\"dataframe\">\n",
       "  <thead>\n",
       "    <tr style=\"text-align: right;\">\n",
       "      <th></th>\n",
       "      <th>Sr.</th>\n",
       "      <th>State</th>\n",
       "      <th>Population</th>\n",
       "      <th>Murder rate</th>\n",
       "      <th>Abbreviation</th>\n",
       "    </tr>\n",
       "  </thead>\n",
       "  <tbody>\n",
       "    <tr>\n",
       "      <th>0</th>\n",
       "      <td>1</td>\n",
       "      <td>Alabama</td>\n",
       "      <td>4779736</td>\n",
       "      <td>5.7</td>\n",
       "      <td>AL</td>\n",
       "    </tr>\n",
       "    <tr>\n",
       "      <th>1</th>\n",
       "      <td>2</td>\n",
       "      <td>Alaska</td>\n",
       "      <td>710231</td>\n",
       "      <td>5.6</td>\n",
       "      <td>AK</td>\n",
       "    </tr>\n",
       "    <tr>\n",
       "      <th>2</th>\n",
       "      <td>3</td>\n",
       "      <td>Arizona</td>\n",
       "      <td>6392017</td>\n",
       "      <td>4.7</td>\n",
       "      <td>AZ</td>\n",
       "    </tr>\n",
       "    <tr>\n",
       "      <th>3</th>\n",
       "      <td>4</td>\n",
       "      <td>Arkansas</td>\n",
       "      <td>2915918</td>\n",
       "      <td>5.6</td>\n",
       "      <td>AR</td>\n",
       "    </tr>\n",
       "    <tr>\n",
       "      <th>4</th>\n",
       "      <td>5</td>\n",
       "      <td>California</td>\n",
       "      <td>37253956</td>\n",
       "      <td>4.4</td>\n",
       "      <td>CA</td>\n",
       "    </tr>\n",
       "    <tr>\n",
       "      <th>5</th>\n",
       "      <td>6</td>\n",
       "      <td>Colorado</td>\n",
       "      <td>5029196</td>\n",
       "      <td>2.8</td>\n",
       "      <td>co</td>\n",
       "    </tr>\n",
       "    <tr>\n",
       "      <th>6</th>\n",
       "      <td>7</td>\n",
       "      <td>Connecticut</td>\n",
       "      <td>3574097</td>\n",
       "      <td>2.4</td>\n",
       "      <td>CT</td>\n",
       "    </tr>\n",
       "    <tr>\n",
       "      <th>7</th>\n",
       "      <td>8</td>\n",
       "      <td>Delaware</td>\n",
       "      <td>897934</td>\n",
       "      <td>5.8</td>\n",
       "      <td>DE</td>\n",
       "    </tr>\n",
       "  </tbody>\n",
       "</table>\n",
       "</div>"
      ],
      "text/plain": [
       "   Sr.        State  Population  Murder rate Abbreviation\n",
       "0    1      Alabama     4779736          5.7           AL\n",
       "1    2       Alaska      710231          5.6           AK\n",
       "2    3      Arizona     6392017          4.7           AZ\n",
       "3    4     Arkansas     2915918          5.6           AR\n",
       "4    5   California    37253956          4.4           CA\n",
       "5    6     Colorado     5029196          2.8           co\n",
       "6    7  Connecticut     3574097          2.4           CT\n",
       "7    8     Delaware      897934          5.8           DE"
      ]
     },
     "execution_count": 24,
     "metadata": {},
     "output_type": "execute_result"
    }
   ],
   "source": [
    "\n",
    "state = pd.read_csv(\"E:\\Statistics-for-Data-Science\\population_murder_rate.csv\")\n",
    "state"
   ]
  },
  {
   "cell_type": "code",
   "execution_count": 27,
   "id": "b3da4b87",
   "metadata": {},
   "outputs": [
    {
     "name": "stdout",
     "output_type": "stream",
     "text": [
      "7694135.625\n",
      "7694135.625\n",
      "4176916.5\n"
     ]
    }
   ],
   "source": [
    "print(state['Population'].mean())\n",
    "print(trim_mean(state['Population'], 0.1))\n",
    "print(state['Population'].median())"
   ]
  },
  {
   "cell_type": "code",
   "execution_count": null,
   "id": "1549c6b4",
   "metadata": {},
   "outputs": [],
   "source": [
    "# 30 pages\n"
   ]
  }
 ],
 "metadata": {
  "kernelspec": {
   "display_name": "mlatest_env",
   "language": "python",
   "name": "python3"
  },
  "language_info": {
   "codemirror_mode": {
    "name": "ipython",
    "version": 3
   },
   "file_extension": ".py",
   "mimetype": "text/x-python",
   "name": "python",
   "nbconvert_exporter": "python",
   "pygments_lexer": "ipython3",
   "version": "3.13.2"
  }
 },
 "nbformat": 4,
 "nbformat_minor": 5
}
