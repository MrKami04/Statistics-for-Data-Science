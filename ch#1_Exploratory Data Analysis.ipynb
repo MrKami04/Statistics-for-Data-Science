{
 "cells": [
  {
   "cell_type": "markdown",
   "id": "6837dedd",
   "metadata": {},
   "source": [
    "# Exploratory Data Analysis\n",
    "### Elements of structured data\n",
    "- data comes from many sources.\n",
    "- there are two basic types of structured data; **numeric and categorical**. \n",
    "- **numeri**c data comes in two forms: **continuous and discrete.**\n",
    "- **categorical** takes only fixed set of values such as TV screen\n",
    "- **binary data** is important special case of categorical data that takes only one of two values such as 0/1, yes/no or true/ false.\n",
    "- categorical types is **ordinal data **: in which categories are ordered as numerical rating(1,2,3,4,5) stars.\n",
    "- why data type **important**: To help determine the type of visual display, data analysis or statistical model and improve computational performance"
   ]
  },
  {
   "cell_type": "markdown",
   "id": "8d4d3832",
   "metadata": {},
   "source": [
    "### Key Ideas\n",
    "- data is typically classified in software by type.\n",
    "- data type include numeric (continuous, discrete) and categorical (binary, ordinal).\n",
    "- data typing in software acts as a signal to the software on how to process the data."
   ]
  },
  {
   "cell_type": "markdown",
   "id": "d8d34d85",
   "metadata": {},
   "source": [
    "### Rectangular data\n",
    "- Typical frame of reference for analysis in data science is  rectangular data object, like spreadsheet or database table\n",
    "- rectangular data is general term for  two-dimensional matrix with rows indicating records(cases) and columns indicating features(variables)\n",
    "- columns names is data-science : column, attribute, input, predictor, variable, Field, Dimension, Independent variable, Key.\n",
    "- rows names is data-science : row, record, case, example, instance, observation, pattern, sample, Tuple, Data Point, Entry."
   ]
  },
  {
   "cell_type": "markdown",
   "id": "21fac533",
   "metadata": {},
   "source": [
    "### Nonrectangular data structures\n",
    "- Time series data\n",
    "- Spatial data (mapping and location)"
   ]
  },
  {
   "cell_type": "markdown",
   "id": "5c7db272",
   "metadata": {},
   "source": [
    "### Estimates of location\n",
    "- **estimate** of where most of the data is located i.e its central tendency.\n",
    "- **Mean(average):** sum of all values divided by number of values.\n",
    "- **Weighted mean**\n",
    "- **Median :** One half of data lies above and below as 50th percentile.\n",
    "- **Percentile:** value such that P percent of data lies below as quantile.\n",
    "- **Trimmed mean:** average of all values after dropping fixed number of extreme values. as truncated mean.\n",
    "- **Robust:** Not sensitive to extreme values. as resistant.\n",
    "- **Outlier:** data value that is very different from most of data as extreme value"
   ]
  },
  {
   "cell_type": "code",
   "execution_count": 1,
   "id": "3a4d734a",
   "metadata": {},
   "outputs": [],
   "source": [
    "import pandas as pd\n",
    "import numpy as np\n",
    "from scipy.stats import trim_mean\n",
    "import statsmodels.robust as robust\n",
    "from statsmodels.robust.scale import mad\n"
   ]
  },
  {
   "cell_type": "code",
   "execution_count": 2,
   "id": "72559622",
   "metadata": {},
   "outputs": [
    {
     "name": "stderr",
     "output_type": "stream",
     "text": [
      "<>:1: SyntaxWarning: invalid escape sequence '\\S'\n",
      "<>:1: SyntaxWarning: invalid escape sequence '\\S'\n",
      "C:\\Users\\Kamran\\AppData\\Local\\Temp\\ipykernel_13532\\1139261898.py:1: SyntaxWarning: invalid escape sequence '\\S'\n",
      "  state = pd.read_csv(\"E:\\Statistics-for-Data-Science\\population_murder_rate.csv\")\n"
     ]
    },
    {
     "data": {
      "text/html": [
       "<div>\n",
       "<style scoped>\n",
       "    .dataframe tbody tr th:only-of-type {\n",
       "        vertical-align: middle;\n",
       "    }\n",
       "\n",
       "    .dataframe tbody tr th {\n",
       "        vertical-align: top;\n",
       "    }\n",
       "\n",
       "    .dataframe thead th {\n",
       "        text-align: right;\n",
       "    }\n",
       "</style>\n",
       "<table border=\"1\" class=\"dataframe\">\n",
       "  <thead>\n",
       "    <tr style=\"text-align: right;\">\n",
       "      <th></th>\n",
       "      <th>Sr.</th>\n",
       "      <th>State</th>\n",
       "      <th>Population</th>\n",
       "      <th>Murder rate</th>\n",
       "      <th>Abbreviation</th>\n",
       "    </tr>\n",
       "  </thead>\n",
       "  <tbody>\n",
       "    <tr>\n",
       "      <th>0</th>\n",
       "      <td>1</td>\n",
       "      <td>Alabama</td>\n",
       "      <td>4779736</td>\n",
       "      <td>5.7</td>\n",
       "      <td>AL</td>\n",
       "    </tr>\n",
       "    <tr>\n",
       "      <th>1</th>\n",
       "      <td>2</td>\n",
       "      <td>Alaska</td>\n",
       "      <td>710231</td>\n",
       "      <td>5.6</td>\n",
       "      <td>AK</td>\n",
       "    </tr>\n",
       "    <tr>\n",
       "      <th>2</th>\n",
       "      <td>3</td>\n",
       "      <td>Arizona</td>\n",
       "      <td>6392017</td>\n",
       "      <td>4.7</td>\n",
       "      <td>AZ</td>\n",
       "    </tr>\n",
       "    <tr>\n",
       "      <th>3</th>\n",
       "      <td>4</td>\n",
       "      <td>Arkansas</td>\n",
       "      <td>2915918</td>\n",
       "      <td>5.6</td>\n",
       "      <td>AR</td>\n",
       "    </tr>\n",
       "    <tr>\n",
       "      <th>4</th>\n",
       "      <td>5</td>\n",
       "      <td>California</td>\n",
       "      <td>37253956</td>\n",
       "      <td>4.4</td>\n",
       "      <td>CA</td>\n",
       "    </tr>\n",
       "    <tr>\n",
       "      <th>5</th>\n",
       "      <td>6</td>\n",
       "      <td>Colorado</td>\n",
       "      <td>5029196</td>\n",
       "      <td>2.8</td>\n",
       "      <td>co</td>\n",
       "    </tr>\n",
       "    <tr>\n",
       "      <th>6</th>\n",
       "      <td>7</td>\n",
       "      <td>Connecticut</td>\n",
       "      <td>3574097</td>\n",
       "      <td>2.4</td>\n",
       "      <td>CT</td>\n",
       "    </tr>\n",
       "    <tr>\n",
       "      <th>7</th>\n",
       "      <td>8</td>\n",
       "      <td>Delaware</td>\n",
       "      <td>897934</td>\n",
       "      <td>5.8</td>\n",
       "      <td>DE</td>\n",
       "    </tr>\n",
       "  </tbody>\n",
       "</table>\n",
       "</div>"
      ],
      "text/plain": [
       "   Sr.        State  Population  Murder rate Abbreviation\n",
       "0    1      Alabama     4779736          5.7           AL\n",
       "1    2       Alaska      710231          5.6           AK\n",
       "2    3      Arizona     6392017          4.7           AZ\n",
       "3    4     Arkansas     2915918          5.6           AR\n",
       "4    5   California    37253956          4.4           CA\n",
       "5    6     Colorado     5029196          2.8           co\n",
       "6    7  Connecticut     3574097          2.4           CT\n",
       "7    8     Delaware      897934          5.8           DE"
      ]
     },
     "execution_count": 2,
     "metadata": {},
     "output_type": "execute_result"
    }
   ],
   "source": [
    "\n",
    "state = pd.read_csv(\"E:\\Statistics-for-Data-Science\\population_murder_rate.csv\")\n",
    "state"
   ]
  },
  {
   "cell_type": "code",
   "execution_count": 3,
   "id": "b3da4b87",
   "metadata": {},
   "outputs": [
    {
     "name": "stdout",
     "output_type": "stream",
     "text": [
      "7694135.625\n",
      "7694135.625\n",
      "4176916.5\n"
     ]
    }
   ],
   "source": [
    "print(state['Population'].mean())\n",
    "print(trim_mean(state['Population'], 0.1))\n",
    "print(state['Population'].median())"
   ]
  },
  {
   "cell_type": "code",
   "execution_count": 4,
   "id": "1549c6b4",
   "metadata": {},
   "outputs": [
    {
     "name": "stdout",
     "output_type": "stream",
     "text": [
      "4.376359279149048\n",
      "4.448750497554494\n",
      "In this case, weighted mean and weighted median ae about same.\n"
     ]
    }
   ],
   "source": [
    "# weighted mean and weighted median\n",
    "\n",
    "weight_mean = np.average(state['Murder rate'], weights=state['Population'])  \n",
    "print(weight_mean)\n",
    "import wquantiles \n",
    "weight_median = wquantiles.median(state['Murder rate'], weights=state['Population'])\n",
    "print(weight_median)\n",
    "print(\"In this case, weighted mean and weighted median ae about same.\")"
   ]
  },
  {
   "cell_type": "markdown",
   "id": "de105ee3",
   "metadata": {},
   "source": [
    "### Key ideas\n",
    "- Basic metric for location is mean, but it can be sensitive to extreme values(outlier).\n",
    "- other metrics (median, trimmed_mean) are less sensitive to outliers and unusual distributions and hence are more robust."
   ]
  },
  {
   "cell_type": "markdown",
   "id": "24908738",
   "metadata": {},
   "source": [
    "### Estimate of variability\n",
    "- location is just one dimension in summarizing a feature.\n",
    "- second  dimension, variability, also refered to as dispersion, measure whether data values are tightly clustered or spread out.\n",
    "- At heart of statistics lies variability: measuring it, reducing it, distinguishing random from real variability.\n",
    "- **Deviations:** difference between observed values and estimate of location ( errors, residuals)\n",
    "- **variance:** sum of square deviation fro  mean divided by n-1 where n is number of data values( mean-squared-error).\n",
    "- **standard deviation:** square root of the variance.\n",
    "- **mean absolute deviation:** mean of absolute values of deviations from mean(l1-norm, manhattan norm).\n",
    "- **median absolute deviation from the median:** the median of absolute values of deviations from median\n",
    "- **Range:** difference between largest and smallest value in a data set.\n",
    "-** order statistics: **metrics based on data values sorted from smallest to biggest(ranks).\n",
    "- **percentile:** value such that P percent of values take on this value or less and (100 - P) percent take on this values or more(quantile).\n",
    "- **Inter-quantile range:** difference between 75th percentile and 25th percentile(IQR).\n"
   ]
  },
  {
   "cell_type": "markdown",
   "id": "65a769de",
   "metadata": {},
   "source": [
    "### Degree of freedom\n",
    "- if we use intuitive denominator of 'n' in the variance formula, you will underestimate true value of variance and standard deviation in population. this is referred to as a biased estimate.\n",
    "- however, if we divide by 'n-1' instead of 'n', the variance becomes unbiased estimate\n",
    "- For most problems, data scientists do not need worry about degree of freedom.\n",
    "- the variance and standard deviation are especially sensitive to outliers since they are based on squared deviations.\n",
    "- A robust estimate of variability is the median absolute deviation from the median or MAD."
   ]
  },
  {
   "cell_type": "code",
   "execution_count": 5,
   "id": "0e28897e",
   "metadata": {},
   "outputs": [
    {
     "name": "stdout",
     "output_type": "stream",
     "text": [
      "mean of the data is: 4.5\n",
      "median of the data is: 4.0\n",
      "25th percentile of the data is: 2.75\n",
      "75th percentile of the data is: 6.25\n",
      "Iqr is: 3.5\n"
     ]
    }
   ],
   "source": [
    "# Simple example in sorted order\n",
    "data1 = [2,3,5,3,1,6,7,9]  # firstly sorted data\n",
    "data = [1,2,3,3,5,6,7,9]\n",
    "print(f\"mean of the data is: {np.mean(data)}\")\n",
    "print(f\"median of the data is: {np.median(data)}\")\n",
    "print(f\"25th percentile of the data is: {np.percentile(data, 25)}\")\n",
    "print(f\"75th percentile of the data is: {np.percentile(data, 75)}\")\n",
    "print(f\"Iqr is: {np.percentile(data, 75) - np.percentile(data, 25)}\") # iqr = q3 - q1\n"
   ]
  },
  {
   "cell_type": "markdown",
   "id": "07391e6e",
   "metadata": {},
   "source": [
    "### Example : variability estimates of state population"
   ]
  },
  {
   "cell_type": "code",
   "execution_count": 6,
   "id": "b4b7385d",
   "metadata": {},
   "outputs": [
    {
     "data": {
      "text/html": [
       "<div>\n",
       "<style scoped>\n",
       "    .dataframe tbody tr th:only-of-type {\n",
       "        vertical-align: middle;\n",
       "    }\n",
       "\n",
       "    .dataframe tbody tr th {\n",
       "        vertical-align: top;\n",
       "    }\n",
       "\n",
       "    .dataframe thead th {\n",
       "        text-align: right;\n",
       "    }\n",
       "</style>\n",
       "<table border=\"1\" class=\"dataframe\">\n",
       "  <thead>\n",
       "    <tr style=\"text-align: right;\">\n",
       "      <th></th>\n",
       "      <th>Sr.</th>\n",
       "      <th>State</th>\n",
       "      <th>Population</th>\n",
       "      <th>Murder rate</th>\n",
       "      <th>Abbreviation</th>\n",
       "    </tr>\n",
       "  </thead>\n",
       "  <tbody>\n",
       "    <tr>\n",
       "      <th>0</th>\n",
       "      <td>1</td>\n",
       "      <td>Alabama</td>\n",
       "      <td>4779736</td>\n",
       "      <td>5.7</td>\n",
       "      <td>AL</td>\n",
       "    </tr>\n",
       "    <tr>\n",
       "      <th>1</th>\n",
       "      <td>2</td>\n",
       "      <td>Alaska</td>\n",
       "      <td>710231</td>\n",
       "      <td>5.6</td>\n",
       "      <td>AK</td>\n",
       "    </tr>\n",
       "    <tr>\n",
       "      <th>2</th>\n",
       "      <td>3</td>\n",
       "      <td>Arizona</td>\n",
       "      <td>6392017</td>\n",
       "      <td>4.7</td>\n",
       "      <td>AZ</td>\n",
       "    </tr>\n",
       "    <tr>\n",
       "      <th>3</th>\n",
       "      <td>4</td>\n",
       "      <td>Arkansas</td>\n",
       "      <td>2915918</td>\n",
       "      <td>5.6</td>\n",
       "      <td>AR</td>\n",
       "    </tr>\n",
       "    <tr>\n",
       "      <th>4</th>\n",
       "      <td>5</td>\n",
       "      <td>California</td>\n",
       "      <td>37253956</td>\n",
       "      <td>4.4</td>\n",
       "      <td>CA</td>\n",
       "    </tr>\n",
       "    <tr>\n",
       "      <th>5</th>\n",
       "      <td>6</td>\n",
       "      <td>Colorado</td>\n",
       "      <td>5029196</td>\n",
       "      <td>2.8</td>\n",
       "      <td>co</td>\n",
       "    </tr>\n",
       "    <tr>\n",
       "      <th>6</th>\n",
       "      <td>7</td>\n",
       "      <td>Connecticut</td>\n",
       "      <td>3574097</td>\n",
       "      <td>2.4</td>\n",
       "      <td>CT</td>\n",
       "    </tr>\n",
       "    <tr>\n",
       "      <th>7</th>\n",
       "      <td>8</td>\n",
       "      <td>Delaware</td>\n",
       "      <td>897934</td>\n",
       "      <td>5.8</td>\n",
       "      <td>DE</td>\n",
       "    </tr>\n",
       "  </tbody>\n",
       "</table>\n",
       "</div>"
      ],
      "text/plain": [
       "   Sr.        State  Population  Murder rate Abbreviation\n",
       "0    1      Alabama     4779736          5.7           AL\n",
       "1    2       Alaska      710231          5.6           AK\n",
       "2    3      Arizona     6392017          4.7           AZ\n",
       "3    4     Arkansas     2915918          5.6           AR\n",
       "4    5   California    37253956          4.4           CA\n",
       "5    6     Colorado     5029196          2.8           co\n",
       "6    7  Connecticut     3574097          2.4           CT\n",
       "7    8     Delaware      897934          5.8           DE"
      ]
     },
     "execution_count": 6,
     "metadata": {},
     "output_type": "execute_result"
    }
   ],
   "source": [
    "state"
   ]
  },
  {
   "cell_type": "markdown",
   "id": "80b7ce18",
   "metadata": {},
   "source": [
    "- By pandas dataframe provides methods to calculating standard deviation and quantiles.we can easily determine IQR.\n",
    "- For robust MAD, we use function `robust.scale.mad` from statsmodels package:"
   ]
  },
  {
   "cell_type": "code",
   "execution_count": 7,
   "id": "139f00f9",
   "metadata": {},
   "outputs": [
    {
     "name": "stdout",
     "output_type": "stream",
     "text": [
      "Std: 12105745.29585633\n",
      "IQR : 2958479.25\n",
      "MAD : 2576836.044572552\n"
     ]
    }
   ],
   "source": [
    "std1 = state['Population'].std()\n",
    "print(f\"Std: {std1}\")\n",
    "Iqr = state['Population'].quantile(0.75) - state['Population'].quantile(0.25)\n",
    "print(f\"IQR : {Iqr}\")\n",
    "robust_mad = robust.scale.mad(state['Population'])\n",
    "print(f\"MAD : {robust_mad}\")"
   ]
  },
  {
   "cell_type": "markdown",
   "id": "20ca300f",
   "metadata": {},
   "source": [
    "### Key Ideas\n",
    "- variance and standard deviation are most widespread and routinely reported statistics of variability.\n",
    "- both are sensitive to outliers.\n",
    "- More robust metrics include mean absolute deviation, median absolute deviation from the median, and percentile(quantiles)"
   ]
  },
  {
   "cell_type": "markdown",
   "id": "a62a70df",
   "metadata": {},
   "source": [
    "### Exploratory The Data Distribution\n",
    "- it is also useful to explore how the data is distributed overall.\n",
    "- **Boxplot:** A plot introduced by Tukey as a quick  way to visualize the distribution of data (box and whiskers plot)\n",
    "- **Frequency table:** A tall of count of numeric data values that fall into a set of intervals(bins)\n",
    "- **Histogram:** A plot of the frequency table with bins on x-axis and count(or proportion) on y-axis\n",
    "- **Density plot:** a smoothed version of histogram, often based on a kernel density estimate"
   ]
  },
  {
   "cell_type": "code",
   "execution_count": 8,
   "id": "730db4c2",
   "metadata": {},
   "outputs": [
    {
     "name": "stdout",
     "output_type": "stream",
     "text": [
      "0.05    2.540\n",
      "0.25    4.000\n",
      "0.50    5.150\n",
      "0.75    5.625\n",
      "0.95    5.765\n",
      "Name: Murder rate, dtype: float64\n"
     ]
    }
   ],
   "source": [
    "# Percentiles and boxplot\n",
    "perc = state['Murder rate'].quantile([0.05, 0.25, 0.5, 0.75, 0.95])\n",
    "print(perc)\n"
   ]
  },
  {
   "cell_type": "code",
   "execution_count": 9,
   "id": "15069c64",
   "metadata": {},
   "outputs": [
    {
     "data": {
      "text/plain": [
       "Text(0, 0.5, 'Population(millions)')"
      ]
     },
     "execution_count": 9,
     "metadata": {},
     "output_type": "execute_result"
    },
    {
     "data": {
      "image/png": "[encoded data removed]",
      "text/plain": [
       "<Figure size 640x480 with 1 Axes>"
      ]
     },
     "metadata": {},
     "output_type": "display_data"
    }
   ],
   "source": [
    "ax = (state['Population']/1_000_000).plot.box()\n",
    "ax.set_ylabel('Population(millions)')"
   ]
  },
  {
   "cell_type": "markdown",
   "id": "cb84a970",
   "metadata": {},
   "source": [
    "- The function pandas.cut creates a series that maps the values into segments and using method value_counts, we get frequency table."
   ]
  },
  {
   "cell_type": "code",
   "execution_count": 10,
   "id": "2df8abd4",
   "metadata": {},
   "outputs": [
    {
     "data": {
      "text/plain": [
       "Population\n",
       "(673687.275, 4364603.5]     4\n",
       "(4364603.5, 8018976.0]      3\n",
       "(33599583.5, 37253956.0]    1\n",
       "(8018976.0, 11673348.5]     0\n",
       "(15327721.0, 18982093.5]    0\n",
       "(11673348.5, 15327721.0]    0\n",
       "(18982093.5, 22636466.0]    0\n",
       "(22636466.0, 26290838.5]    0\n",
       "(26290838.5, 29945211.0]    0\n",
       "(29945211.0, 33599583.5]    0\n",
       "Name: count, dtype: int64"
      ]
     },
     "execution_count": 10,
     "metadata": {},
     "output_type": "execute_result"
    }
   ],
   "source": [
    "binnedpopulation = pd.cut(state['Population'], 10)\n",
    "binnedpopulation.value_counts()"
   ]
  },
  {
   "cell_type": "code",
   "execution_count": 11,
   "id": "12f75043",
   "metadata": {},
   "outputs": [
    {
     "data": {
      "text/plain": [
       "Text(0.5, 0, 'Population(millions)')"
      ]
     },
     "execution_count": 11,
     "metadata": {},
     "output_type": "execute_result"
    },
    {
     "data": {
      "image/png": "[encoded data removed]",
      "text/plain": [
       "<Figure size 400x400 with 1 Axes>"
      ]
     },
     "metadata": {},
     "output_type": "display_data"
    }
   ],
   "source": [
    "ax = (state['Population']/1_000_000).plot.hist(figsize=(4,4))\n",
    "ax.set_xlabel('Population(millions)')"
   ]
  },
  {
   "cell_type": "markdown",
   "id": "8f68a343",
   "metadata": {},
   "source": [
    "- Empty bins are included in graph.\n",
    "- Bins are of equal width.\n",
    "- The number if bins(or, equivalent, bin size) is up to user.\n",
    "- Bars are continuous no empty space shows between bars, unless there is empty bin."
   ]
  },
  {
   "cell_type": "markdown",
   "id": "6478885e",
   "metadata": {},
   "source": [
    "### Statistical \n",
    "- in statistical theory, LOCATION AND VARIABILITY are refered to as the first and second moments of distibution.\n",
    "- The third and fourth moments are called SKEWNESS AND KURTOSIS.\n",
    "- Skewness refers to whether data is skewed to larger or smaller values.\n",
    "- Kurtosis indicates the propensity of the data to have extreme values.\n"
   ]
  },
  {
   "cell_type": "markdown",
   "id": "2d6bc02d",
   "metadata": {},
   "source": [
    "### Density plots and Estimate\n",
    "- Related to histogram is a density plot, which shows the distribution of data values as continuous line.\n",
    "- plot function often take optional axis(ax) argument, which will cause the plot to be added to same graph.\n",
    "- **Density Estimation** is a rich topic with a long history in statisticalm literature."
   ]
  },
  {
   "cell_type": "code",
   "execution_count": 14,
   "id": "9454afa9",
   "metadata": {},
   "outputs": [
    {
     "data": {
      "text/plain": [
       "Text(0.5, 0, 'Murder rate (per 100,000)')"
      ]
     },
     "execution_count": 14,
     "metadata": {},
     "output_type": "execute_result"
    },
    {
     "data": {
      "image/png": "[encoded data removed]",
      "text/plain": [
       "<Figure size 640x480 with 1 Axes>"
      ]
     },
     "metadata": {},
     "output_type": "display_data"
    }
   ],
   "source": [
    "ax = state['Murder rate'].plot.hist(density = True, xlim=[0,12], bins=range(1,12))\n",
    "state['Murder rate'].plot.density(ax=ax)\n",
    "ax.set_xlabel('Murder rate (per 100,000)')"
   ]
  },
  {
   "cell_type": "markdown",
   "id": "895b8f13",
   "metadata": {},
   "source": [
    "### Key Ideas\n",
    "- A frequency histogram plots frequency counts on the y-axis and variable values on the x-axis; it gives a sense of distribution of the data at a glance.\n",
    "- A frequency table is a tabular version of the frequency counts found in a histogram.\n",
    "- A boxplot- with the top and bottom of the box at 75th and 25th percentiles, respectively-also gives a quick sense of distribution of the data; it is often used in side-by-side display to compare distributions.\n",
    "- A density plot is a smoothed version of a histogram; it requires a function to estimate a plot based on data(multiple estimates are possible, of course)."
   ]
  },
  {
   "cell_type": "markdown",
   "id": "bbdf2eb7",
   "metadata": {},
   "source": [
    "## Exploring Binary and Categorical Data\n",
    "- For categorical data, simpleproportions or percentages tell the story of the data.\n",
    "- **Mode:** most commonly occuring category or value in a data set.\n",
    "- **Expected value:** when the categorical can be associated with a numberic value, this gives average value based on a category's probability of occurence.\n",
    "- **Bar charts:** frequency or proportion for each category plotted as bars.\n",
    "- **Pie charts:** frequency or proportion for each category plotted as wedges in a pie.\n",
    "- Statisticians and data visualization experts generally eschew(parhez karna) pie charts as less visually informative."
   ]
  },
  {
   "cell_type": "code",
   "execution_count": 16,
   "id": "ed925dbd",
   "metadata": {},
   "outputs": [
    {
     "data": {
      "text/html": [
       "<div>\n",
       "<style scoped>\n",
       "    .dataframe tbody tr th:only-of-type {\n",
       "        vertical-align: middle;\n",
       "    }\n",
       "\n",
       "    .dataframe tbody tr th {\n",
       "        vertical-align: top;\n",
       "    }\n",
       "\n",
       "    .dataframe thead th {\n",
       "        text-align: right;\n",
       "    }\n",
       "</style>\n",
       "<table border=\"1\" class=\"dataframe\">\n",
       "  <thead>\n",
       "    <tr style=\"text-align: right;\">\n",
       "      <th></th>\n",
       "      <th>Sr.</th>\n",
       "      <th>State</th>\n",
       "      <th>Population</th>\n",
       "      <th>Murder rate</th>\n",
       "      <th>Abbreviation</th>\n",
       "    </tr>\n",
       "  </thead>\n",
       "  <tbody>\n",
       "    <tr>\n",
       "      <th>0</th>\n",
       "      <td>1</td>\n",
       "      <td>Alabama</td>\n",
       "      <td>4779736</td>\n",
       "      <td>5.7</td>\n",
       "      <td>AL</td>\n",
       "    </tr>\n",
       "    <tr>\n",
       "      <th>1</th>\n",
       "      <td>2</td>\n",
       "      <td>Alaska</td>\n",
       "      <td>710231</td>\n",
       "      <td>5.6</td>\n",
       "      <td>AK</td>\n",
       "    </tr>\n",
       "    <tr>\n",
       "      <th>2</th>\n",
       "      <td>3</td>\n",
       "      <td>Arizona</td>\n",
       "      <td>6392017</td>\n",
       "      <td>4.7</td>\n",
       "      <td>AZ</td>\n",
       "    </tr>\n",
       "    <tr>\n",
       "      <th>3</th>\n",
       "      <td>4</td>\n",
       "      <td>Arkansas</td>\n",
       "      <td>2915918</td>\n",
       "      <td>5.6</td>\n",
       "      <td>AR</td>\n",
       "    </tr>\n",
       "    <tr>\n",
       "      <th>4</th>\n",
       "      <td>5</td>\n",
       "      <td>California</td>\n",
       "      <td>37253956</td>\n",
       "      <td>4.4</td>\n",
       "      <td>CA</td>\n",
       "    </tr>\n",
       "    <tr>\n",
       "      <th>5</th>\n",
       "      <td>6</td>\n",
       "      <td>Colorado</td>\n",
       "      <td>5029196</td>\n",
       "      <td>2.8</td>\n",
       "      <td>co</td>\n",
       "    </tr>\n",
       "    <tr>\n",
       "      <th>6</th>\n",
       "      <td>7</td>\n",
       "      <td>Connecticut</td>\n",
       "      <td>3574097</td>\n",
       "      <td>2.4</td>\n",
       "      <td>CT</td>\n",
       "    </tr>\n",
       "    <tr>\n",
       "      <th>7</th>\n",
       "      <td>8</td>\n",
       "      <td>Delaware</td>\n",
       "      <td>897934</td>\n",
       "      <td>5.8</td>\n",
       "      <td>DE</td>\n",
       "    </tr>\n",
       "  </tbody>\n",
       "</table>\n",
       "</div>"
      ],
      "text/plain": [
       "   Sr.        State  Population  Murder rate Abbreviation\n",
       "0    1      Alabama     4779736          5.7           AL\n",
       "1    2       Alaska      710231          5.6           AK\n",
       "2    3      Arizona     6392017          4.7           AZ\n",
       "3    4     Arkansas     2915918          5.6           AR\n",
       "4    5   California    37253956          4.4           CA\n",
       "5    6     Colorado     5029196          2.8           co\n",
       "6    7  Connecticut     3574097          2.4           CT\n",
       "7    8     Delaware      897934          5.8           DE"
      ]
     },
     "execution_count": 16,
     "metadata": {},
     "output_type": "execute_result"
    }
   ],
   "source": [
    "state"
   ]
  },
  {
   "cell_type": "code",
   "execution_count": 21,
   "id": "b506ce82",
   "metadata": {},
   "outputs": [
    {
     "data": {
      "text/html": [
       "<div>\n",
       "<style scoped>\n",
       "    .dataframe tbody tr th:only-of-type {\n",
       "        vertical-align: middle;\n",
       "    }\n",
       "\n",
       "    .dataframe tbody tr th {\n",
       "        vertical-align: top;\n",
       "    }\n",
       "\n",
       "    .dataframe thead th {\n",
       "        text-align: right;\n",
       "    }\n",
       "</style>\n",
       "<table border=\"1\" class=\"dataframe\">\n",
       "  <thead>\n",
       "    <tr style=\"text-align: right;\">\n",
       "      <th></th>\n",
       "      <th>Employee_ID</th>\n",
       "      <th>Name</th>\n",
       "      <th>Department</th>\n",
       "      <th>Gender</th>\n",
       "      <th>Age</th>\n",
       "      <th>Education_Level</th>\n",
       "      <th>Experience_Years</th>\n",
       "      <th>Job_Role</th>\n",
       "      <th>Performance_Rating</th>\n",
       "      <th>Status</th>\n",
       "    </tr>\n",
       "  </thead>\n",
       "  <tbody>\n",
       "    <tr>\n",
       "      <th>0</th>\n",
       "      <td>E001</td>\n",
       "      <td>Alice</td>\n",
       "      <td>Engineering</td>\n",
       "      <td>Female</td>\n",
       "      <td>29</td>\n",
       "      <td>Bachelor</td>\n",
       "      <td>5</td>\n",
       "      <td>Software Engineer</td>\n",
       "      <td>Excellent</td>\n",
       "      <td>Active</td>\n",
       "    </tr>\n",
       "    <tr>\n",
       "      <th>1</th>\n",
       "      <td>E002</td>\n",
       "      <td>Bob</td>\n",
       "      <td>Marketing</td>\n",
       "      <td>Male</td>\n",
       "      <td>35</td>\n",
       "      <td>Master</td>\n",
       "      <td>10</td>\n",
       "      <td>Digital Marketer</td>\n",
       "      <td>Good</td>\n",
       "      <td>Active</td>\n",
       "    </tr>\n",
       "    <tr>\n",
       "      <th>2</th>\n",
       "      <td>E003</td>\n",
       "      <td>Charlie</td>\n",
       "      <td>HR</td>\n",
       "      <td>Male</td>\n",
       "      <td>41</td>\n",
       "      <td>Bachelor</td>\n",
       "      <td>15</td>\n",
       "      <td>HR Manager</td>\n",
       "      <td>Average</td>\n",
       "      <td>On Leave</td>\n",
       "    </tr>\n",
       "    <tr>\n",
       "      <th>3</th>\n",
       "      <td>E004</td>\n",
       "      <td>Diana</td>\n",
       "      <td>Engineering</td>\n",
       "      <td>Female</td>\n",
       "      <td>26</td>\n",
       "      <td>Master</td>\n",
       "      <td>3</td>\n",
       "      <td>Data Scientist</td>\n",
       "      <td>Excellent</td>\n",
       "      <td>Active</td>\n",
       "    </tr>\n",
       "    <tr>\n",
       "      <th>4</th>\n",
       "      <td>E005</td>\n",
       "      <td>Evan</td>\n",
       "      <td>Sales</td>\n",
       "      <td>Male</td>\n",
       "      <td>38</td>\n",
       "      <td>Bachelor</td>\n",
       "      <td>12</td>\n",
       "      <td>Sales Executive</td>\n",
       "      <td>Poor</td>\n",
       "      <td>Resigned</td>\n",
       "    </tr>\n",
       "  </tbody>\n",
       "</table>\n",
       "</div>"
      ],
      "text/plain": [
       "  Employee_ID     Name   Department  Gender  Age Education_Level  \\\n",
       "0        E001    Alice  Engineering  Female   29        Bachelor   \n",
       "1        E002      Bob    Marketing    Male   35          Master   \n",
       "2        E003  Charlie           HR    Male   41        Bachelor   \n",
       "3        E004    Diana  Engineering  Female   26          Master   \n",
       "4        E005     Evan        Sales    Male   38        Bachelor   \n",
       "\n",
       "   Experience_Years           Job_Role Performance_Rating    Status  \n",
       "0                 5  Software Engineer          Excellent    Active  \n",
       "1                10   Digital Marketer               Good    Active  \n",
       "2                15         HR Manager            Average  On Leave  \n",
       "3                 3     Data Scientist          Excellent    Active  \n",
       "4                12    Sales Executive               Poor  Resigned  "
      ]
     },
     "execution_count": 21,
     "metadata": {},
     "output_type": "execute_result"
    }
   ],
   "source": [
    "df = pd.read_csv(\"employee_performance_data.csv\")\n",
    "df.head()"
   ]
  },
  {
   "cell_type": "code",
   "execution_count": 30,
   "id": "e8017b82",
   "metadata": {},
   "outputs": [
    {
     "data": {
      "image/png": "[encoded data removed]",
      "text/plain": [
       "<Figure size 1000x300 with 1 Axes>"
      ]
     },
     "metadata": {},
     "output_type": "display_data"
    }
   ],
   "source": [
    "import matplotlib.pyplot as plt\n",
    "\n",
    "# Set Name as index for plotting\n",
    "df_plot = df.set_index(\"Name\")\n",
    "\n",
    "# Plot bar chart of Age\n",
    "ax = df_plot[\"Age\"].plot.bar(figsize=(10, 3), legend=False, color='lightgreen')\n",
    "ax.set_xlabel(\"Name\")\n",
    "ax.set_ylabel(\"Age\")\n",
    "ax.set_title(\"Employee Age\")\n",
    "plt.xticks(rotation=90)\n",
    "plt.tight_layout()\n",
    "plt.show()\n",
    "\n"
   ]
  },
  {
   "cell_type": "markdown",
   "id": "f128a104",
   "metadata": {},
   "source": [
    "- Converting numeric data to categorical data is an important and widely used step in data analysis sinceit reduces the complexity(and size) of the data. This aids in the discovery of relationships between features, particularly at the initial stages of an analysis.\n",
    "- The mode is a simple summary statistic for categorical data, and it is generally not used for numeric data.\n",
    "- The expected value is calculated as follows:\n",
    "- 1. Multiply each outcome by its probability of occurence.\n",
    "- 2. Sum these values.\n",
    "- The Expected value is really a form of weighted mean: it adds ideas of future expectations and probability weights, often based in subjective judgment.\n",
    "- Expected value is a fundamental concept in business valuation and capital budgeting-for example, the expected value of five years of profits from a new acquisition, or the expected cost savings from new patient management software at a clinic."
   ]
  },
  {
   "cell_type": "markdown",
   "id": "f24d5b01",
   "metadata": {},
   "source": [
    "### Probability\n",
    "- Categorical data is typically summed up in  proportions and can be visualized in a bar chart.\n",
    "- Categories might represent distinct things(apples and mangoes, male and female), levels of a factor variable(low, medium and high), or numeric data that has been binned.\n",
    "- Expected valu is the sum of values times their probablity of occurence, often used to sum up factor variable levels.\n",
    "  "
   ]
  },
  {
   "cell_type": "markdown",
   "id": "346e6bd7",
   "metadata": {},
   "source": [
    "### Correlation\n",
    "- correleation coefficient: a metrix that measures the extend to which numeric variables are associated with one another (ranges from -1 to +1)\n",
    "- correlation matrix: a table where the variables are shown on both rows and columns, and the cell values are the correlation between the variables.\n",
    "- scatterplot: a plot in which th x-axis is the values one variable, and the y-axis the value of another.\n",
    "- Other types of correlation coefficient :  1. spearman's rho or kendall's tau ( these are correlation coefficients based on the rank of the data. since they work with ranks rather than values, these estimates robust to outliers and can handle certain types of nonlinearities)"
   ]
  },
  {
   "cell_type": "code",
   "execution_count": null,
   "id": "a7ee1262",
   "metadata": {},
   "outputs": [],
   "source": [
    "# etfs = sp500_px.loc[sp500_px.index > '2012-07-01', sp500_sym[sp500_sym['sector'] == 'etf']['symbol']]\n",
    "# sns.heatmap(etfs.corr(), vmin=-1, vmax=1, cmap = sns.diverging_palette(20, 220, as_cmap=True))"
   ]
  },
  {
   "cell_type": "markdown",
   "id": "b29ba31e",
   "metadata": {},
   "source": [
    "### scatter plot\n",
    "- The standard way to visualize the relationship beteen two measured data variables is with a scatterplot."
   ]
  },
  {
   "cell_type": "markdown",
   "id": "69f000a6",
   "metadata": {},
   "source": [
    "### Exploring two or more variables\n",
    "- contingency table: a tally of counts between two or more categorical variable\n",
    "- hexagonal binning: a plot of two numeric variables with the records binned into hexagons.\n",
    "- counter plot : a plot showing the density of two variables like a topographical map.\n",
    "- violin plot: similar to a boxplot but showing the density estimate."
   ]
  },
  {
   "cell_type": "code",
   "execution_count": null,
   "id": "4cd40ae7",
   "metadata": {},
   "outputs": [],
   "source": [
    "# 59\n"
   ]
  }
 ],
 "metadata": {
  "kernelspec": {
   "display_name": "mlatest_env",
   "language": "python",
   "name": "python3"
  },
  "language_info": {
   "codemirror_mode": {
    "name": "ipython",
    "version": 3
   },
   "file_extension": ".py",
   "mimetype": "text/x-python",
   "name": "python",
   "nbconvert_exporter": "python",
   "pygments_lexer": "ipython3",
   "version": "3.13.2"
  }
 },
 "nbformat": 4,
 "nbformat_minor": 5
}
