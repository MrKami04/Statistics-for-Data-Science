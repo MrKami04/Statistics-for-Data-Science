{
 "cells": [
  {
   "cell_type": "markdown",
   "id": "6837dedd",
   "metadata": {},
   "source": [
    "# Exploratory Data Analysis\n",
    "### Elements of structured data\n",
    "- data comes from many sources.\n",
    "- there are two basic types of structured data; **numeric and categorical**. \n",
    "- **numeri**c data comes in two forms: **continuous and discrete.**\n",
    "- **categorical** takes only fixed set of values such as TV screen\n",
    "- **binary data** is important special case of categorical data that takes only one of two values such as 0/1, yes/no or true/ false.\n",
    "- categorical types is **ordinal data **: in which categories are ordered as numerical rating(1,2,3,4,5) stars.\n",
    "- why data type **important**: To help determine the type of visual display, data analysis or statistical model and improve computational performance"
   ]
  },
  {
   "cell_type": "markdown",
   "id": "8d4d3832",
   "metadata": {},
   "source": [
    "### Key Ideas\n",
    "- data is typically classified in software by type.\n",
    "- data type include numeric (continuous, discrete) and categorical (binary, ordinal).\n",
    "- data typing in software acts as a signal to the software on how to process the data."
   ]
  },
  {
   "cell_type": "markdown",
   "id": "d8d34d85",
   "metadata": {},
   "source": [
    "### Rectangular data\n",
    "- Typical frame of reference for analysis in data science is  rectangular data object, like spreadsheet or database table\n",
    "- rectangular data is general term for  two-dimensional matrix with rows indicating records(cases) and columns indicating features(variables)\n",
    "- columns names is data-science : column, attribute, input, predictor, variable, Field, Dimension, Independent variable, Key.\n",
    "- rows names is data-science : row, record, case, example, instance, observation, pattern, sample, Tuple, Data Point, Entry."
   ]
  },
  {
   "cell_type": "markdown",
   "id": "21fac533",
   "metadata": {},
   "source": [
    "### Nonrectangular data structures\n",
    "- Time series data\n",
    "- Spatial data (mapping and location)"
   ]
  },
  {
   "cell_type": "code",
   "execution_count": null,
   "id": "1c93139d",
   "metadata": {},
   "outputs": [],
   "source": [
    "pages 25."
   ]
  }
 ],
 "metadata": {
  "kernelspec": {
   "display_name": "mlatest_env",
   "language": "python",
   "name": "python3"
  },
  "language_info": {
   "name": "python",
   "version": "3.13.2"
  }
 },
 "nbformat": 4,
 "nbformat_minor": 5
}
